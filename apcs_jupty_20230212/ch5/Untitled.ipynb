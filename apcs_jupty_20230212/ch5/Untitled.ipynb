{
 "cells": [
  {
   "cell_type": "code",
   "execution_count": null,
   "id": "031ccda6",
   "metadata": {},
   "outputs": [],
   "source": [
    "places = {'A':(10, '臺北市'), 'B':(11, '臺中市'), 'C':(12, '基隆市'), 'D':(13, '臺南市'),\n",
    "          'E':(14, '高雄市'), 'F':(15, '新北市'), 'G':(16, '宜蘭縣'), 'H':(17, '桃園市'),\n",
    "          'I':(34, '嘉義市'), 'J':(18, '新竹縣'), 'K':(19, '苗栗縣'), 'M':(21, '南投縣'),\n",
    "          'N':(22, '彰化縣'), 'O':(35, '新竹市'), 'P':(23, '雲林縣'), 'Q':(24, '嘉義縣'),\n",
    "          'T':(27, '屏東縣'), 'U':(28, '花蓮縣'), 'V':(29, '臺東縣'), 'W':(32, '金門縣'),\n",
    "          'X':(30, '澎湖縣'), 'Z':(33, '連江縣'),\n",
    "          'L':(20, '臺中縣'), 'R':(25, '臺南縣'), 'S':(26, '高雄縣'), 'Y':(31, '陽明山')}\n",
    "\n",
    "weight = [8,7,6,5,4,3,2,1,1]\n",
    "\n",
    "def isValidId(pid):\n",
    "    if(pid[0] not in places):\n",
    "        return False\n",
    "    if(pid[1]!='1' and pid[1]!='2'):\n",
    "        return False\n",
    "    checkSum = 0\n",
    "    checkSum = p2sum(places[pid[0]][0])#取得地區的數字\n",
    "    for i in range(1, 10):\n",
    "        checkSum += int(pid[i])*weight[i-1]\n",
    "    if(checkSum%10==0):\n",
    "        return True\n",
    "    else:\n",
    "        return False\n",
    "# 取得num//10 開頭\n",
    "#取得num%10取得尾\n",
    "def p2sum(num):\n",
    "    return num//10*1+num%10*9\n",
    "\n",
    "pid = input('輸入身分證字號:')\n",
    "\n",
    "if(isValidId(pid)):\n",
    "    gender = int(pid[1])\n",
    "    birth = pid[0]\n",
    "    if(gender == 1):\n",
    "        print('先生您好!')\n",
    "    else:\n",
    "        print('小姐您好!')\n",
    "    print('出生地:', places[birth][1])\n",
    "else:\n",
    "    print('身份證字號無效:%s' %pid)"
   ]
  },
  {
   "cell_type": "code",
   "execution_count": null,
   "id": "d5620e76",
   "metadata": {},
   "outputs": [],
   "source": [
    "str_result=input('字母接龍\\n請輸入字串:')\n",
    "eCount=0\n",
    "while(eCount<5):    \n",
    "    print('目前字串:%s' %str_result)\n",
    "    str_in = input('請輸入-%s-開始的字串:' %str_result[-1].upper())\n",
    "    if(str_in[0].lower()==str_result[-1].lower()):\n",
    "        str_result+=\"-\"+str_in\n",
    "    else:\n",
    "        eCount += 1\n",
    "        print('輸入錯誤%d次' %eCount)\n",
    "\n",
    "print('錯誤超過五次,遊戲結束!')\n"
   ]
  },
  {
   "cell_type": "code",
   "execution_count": 1,
   "id": "d8ed3b90",
   "metadata": {},
   "outputs": [
    {
     "name": "stdout",
     "output_type": "stream",
     "text": [
      "['a', 'b', 'c']\n",
      "3\n",
      "==========================\n",
      "['a', 'b', 'c', ['def', 'ghij']]\n",
      "4\n"
     ]
    }
   ],
   "source": [
    "list1 = ['a','b','c']\n",
    "print(list1)\n",
    "print(len(list1))\n",
    "list1.append([\"def\",\"ghij\"])\n",
    "print(\"==========================\")\n",
    "print(list1)\n",
    "print(len(list1))"
   ]
  },
  {
   "cell_type": "code",
   "execution_count": 2,
   "id": "8cf39437",
   "metadata": {},
   "outputs": [
    {
     "name": "stdout",
     "output_type": "stream",
     "text": [
      "['a', 'b', 'c']\n",
      "3\n",
      "==================\n",
      "['a', 'b', 'c', 'def', 'ghij']\n",
      "5\n"
     ]
    }
   ],
   "source": [
    "list1 = ['a','b','c']\n",
    "print(list1)\n",
    "print(len(list1))\n",
    "list1.extend([\"def\",\"ghij\"])\n",
    "print(\"==================\")\n",
    "print(list1)\n",
    "print(len(list1))\n"
   ]
  },
  {
   "cell_type": "code",
   "execution_count": 3,
   "id": "843a4a66",
   "metadata": {},
   "outputs": [
    {
     "name": "stdout",
     "output_type": "stream",
     "text": [
      "['a', 'b', 'c']\n",
      "3\n",
      "['a', ['def', 'ghij'], 'b', 'c']\n",
      "4\n"
     ]
    }
   ],
   "source": [
    "list1 = ['a','b','c']\n",
    "print(list1)\n",
    "print(len(list1))\n",
    "list1.insert(1,['def','ghij'])\n",
    "print(list1)\n",
    "print(len(list1))"
   ]
  },
  {
   "cell_type": "code",
   "execution_count": 4,
   "id": "41d92171",
   "metadata": {},
   "outputs": [
    {
     "name": "stdout",
     "output_type": "stream",
     "text": [
      "['Honda', 'Toyota', 'Ford', 'BMW']\n",
      "4\n",
      "BMW\n",
      "3\n",
      "=====================\n",
      "['Honda', 'Toyota', 'Ford']\n",
      "Ford\n",
      "2\n"
     ]
    }
   ],
   "source": [
    "cars = [\"Honda\",\"Toyota\",\"Ford\",\"BMW\"]\n",
    "print(cars)\n",
    "print(len(cars))\n",
    "c1 = cars.pop()\n",
    "print(c1)\n",
    "print(len(cars))\n",
    "print(\"=====================\")\n",
    "print(cars)\n",
    "c2 = cars.pop(2)\n",
    "print(c2)\n",
    "print(len(cars))"
   ]
  },
  {
   "cell_type": "code",
   "execution_count": 5,
   "id": "04de2382",
   "metadata": {},
   "outputs": [
    {
     "name": "stdout",
     "output_type": "stream",
     "text": [
      "['Honda', 'Toyota', 'Ford', 'BMW']\n",
      "['Honda', 'Ford', 'BMW']\n"
     ]
    }
   ],
   "source": [
    "cars = [\"Honda\",\"Toyota\",\"Ford\",\"BMW\"]\n",
    "print(cars)\n",
    "cars.remove(\"Toyota\")\n",
    "print(cars)"
   ]
  },
  {
   "cell_type": "code",
   "execution_count": 6,
   "id": "f3459733",
   "metadata": {},
   "outputs": [
    {
     "name": "stdout",
     "output_type": "stream",
     "text": [
      "['Honda', 'Toyota', 'Ford', 'BMW', 'Mazda', 'Benz']\n",
      "['Honda', 'Toyota', 'Ford', 'BMW', 'Benz']\n",
      "['Honda', 'BMW', 'Benz']\n"
     ]
    }
   ],
   "source": [
    "cars = [\"Honda\",\"Toyota\",\"Ford\",\"BMW\",\"Mazda\",\"Benz\"]\n",
    "print(cars)\n",
    "\n",
    "del cars[4]\n",
    "print(cars)\n",
    "del cars[1:3]\n",
    "print(cars)"
   ]
  },
  {
   "cell_type": "code",
   "execution_count": 7,
   "id": "333099b9",
   "metadata": {},
   "outputs": [
    {
     "name": "stdout",
     "output_type": "stream",
     "text": [
      "[5, 2, 1, 9, 6]\n",
      "[1, 2, 5, 6, 9]\n",
      "[5, 2, 1, 9, 6]\n",
      "============\n",
      "[5, 2, 1, 9, 6]\n",
      "[1, 2, 5, 6, 9]\n",
      "[9, 6, 5, 2, 1]\n"
     ]
    }
   ],
   "source": [
    "nums = [5,2,1,9,6]\n",
    "print(nums)\n",
    "print(sorted(nums))\n",
    "print(nums)\n",
    "\n",
    "print(\"============\")\n",
    "print(nums)\n",
    "nums.sort()\n",
    "print(nums)\n",
    "nums.sort(reverse = True)\n",
    "print(nums)\n"
   ]
  },
  {
   "cell_type": "code",
   "execution_count": 8,
   "id": "4c48db0e",
   "metadata": {},
   "outputs": [
    {
     "name": "stdout",
     "output_type": "stream",
     "text": [
      "{'Ch': 100, 'En': 80, 'Ma': 95}\n",
      "dict_keys(['Ch', 'En', 'Ma'])\n",
      "dict_values([100, 80, 95])\n",
      "dict_items([('Ch', 100), ('En', 80), ('Ma', 95)])\n"
     ]
    }
   ],
   "source": [
    "scores = {'Ch':100,'En':80,'Ma':95}\n",
    "print(scores)\n",
    "print(scores.keys())\n",
    "print(scores.values())\n",
    "print(scores.items())"
   ]
  },
  {
   "cell_type": "code",
   "execution_count": 9,
   "id": "2357c0d5",
   "metadata": {},
   "outputs": [
    {
     "name": "stdout",
     "output_type": "stream",
     "text": [
      "{'Ch': 100, 'En': 80, 'Ma': 95}\n",
      "dict_keys(['Ch', 'En', 'Ma'])\n",
      "dict_values([100, 80, 95])\n",
      "dict_items([('Ch', 100), ('En', 80), ('Ma', 95)])\n",
      "{'Ch': 100, 'En': 80, 'Ma': 95, 'So': 90}\n",
      "{'Ch': 100, 'En': 80, 'Ma': 'N/A', 'So': 90}\n",
      "100\n",
      "N/A\n",
      "90\n",
      "{'Ch': 100, 'En': 80, 'Ma': 'N/A'}\n"
     ]
    }
   ],
   "source": [
    "scores = {'Ch':100,'En':80,'Ma':95}\n",
    "print(scores)\n",
    "print(scores.keys())\n",
    "print(scores.values())\n",
    "print(scores.items())\n",
    "\n",
    "add_dic = {\"So\":90}\n",
    "scores.update(add_dic)\n",
    "#scores[\"SO\"] = 90\n",
    "print(scores)\n",
    "add_dic = {\"Ma\":'N/A'}\n",
    "scores.update(add_dic)\n",
    "print(scores)\n",
    "\n",
    "ch1 = scores.get(\"Ch\")\n",
    "print(ch1)\n",
    "en1 = scores.get(\"EN\",\"N/A\")\n",
    "print(en1)\n",
    "so1 = scores.pop(\"So\",'N/A')\n",
    "print(so1)\n",
    "print(scores)\n"
   ]
  },
  {
   "attachments": {
    "image.png": {
     "image/png": "[encoded data removed]"
    }
   },
   "cell_type": "markdown",
   "id": "b88e806e",
   "metadata": {},
   "source": [
    "![image.png](attachment:image.png)"
   ]
  },
  {
   "cell_type": "code",
   "execution_count": null,
   "id": "04c69339",
   "metadata": {},
   "outputs": [],
   "source": [
    "song = \"\"\"Are you sleeping, are you sleeping, Brother John, Brother John?\n",
    "Morning bells are ringing, morning bells are ringing.\n",
    "Ding ding dong, Ding ding dong.\"\"\"\n"
   ]
  },
  {
   "cell_type": "code",
   "execution_count": 10,
   "id": "940a3ce6",
   "metadata": {},
   "outputs": [
    {
     "name": "stdout",
     "output_type": "stream",
     "text": [
      "10.0\n"
     ]
    }
   ],
   "source": [
    "num1 = 10\n",
    "num2 = 1\n",
    "nums = [1,3,5,7,9]\n",
    "#print(num1 * num3)\n",
    "print(num1 / num2)\n",
    "#print(num1 / (num2 - 1))\n",
    "#print(nums[5])\n"
   ]
  },
  {
   "cell_type": "code",
   "execution_count": 11,
   "id": "7099f046",
   "metadata": {},
   "outputs": [
    {
     "name": "stdout",
     "output_type": "stream",
     "text": [
      "Try:\n",
      "產生例外\n",
      "程式結束\n"
     ]
    }
   ],
   "source": [
    "num1 = 10\n",
    "num2  = 0\n",
    "nums = [1,3,5,7,9]\n",
    "try:\n",
    "    print(\"Try:\")\n",
    "    #print(num1 * num3)\n",
    "    #print(num1/num2)\n",
    "    print(nums[100])\n",
    "except:\n",
    "     print(\"產生例外\")\n",
    "print(\"程式結束\")     \n"
   ]
  },
  {
   "cell_type": "code",
   "execution_count": 12,
   "id": "43b6d098",
   "metadata": {},
   "outputs": [
    {
     "name": "stdout",
     "output_type": "stream",
     "text": [
      "Try:\n",
      "產生例外:ZeroDivisionError\n",
      "程式結束\n"
     ]
    }
   ],
   "source": [
    "num1 = 10\n",
    "num2  = 0\n",
    "nums = [1,3,5,7,9]\n",
    "try:\n",
    "    print(\"Try:\")\n",
    "    #print(num1 * num3)\n",
    "    print(num1/num2)\n",
    "    #print(nums[100])\n",
    "except (NameError,IndexError):\n",
    "     print(\"產生例外:NameError 或 IndexError\")\n",
    "except ZeroDivisionError:\n",
    "     print(\"產生例外:ZeroDivisionError\")\n",
    "print(\"程式結束\")    "
   ]
  },
  {
   "cell_type": "code",
   "execution_count": 13,
   "id": "8f64cbe8",
   "metadata": {},
   "outputs": [
    {
     "name": "stdout",
     "output_type": "stream",
     "text": [
      "ZeroDivisionError:...\n",
      "關閉資源!!\n"
     ]
    }
   ],
   "source": [
    "num1 = 10\n",
    "num2  = 0\n",
    "nums = [1,3,5,7,9]\n",
    "\n",
    "\n",
    "try:\n",
    "    print(num1/num2)\n",
    "   \n",
    "except ZeroDivisionError:        \n",
    "    print(\"ZeroDivisionError:...\")\n",
    "finally:\n",
    "    print(\"關閉資源!!\")\n"
   ]
  },
  {
   "cell_type": "code",
   "execution_count": 14,
   "id": "3cd0e022",
   "metadata": {},
   "outputs": [
    {
     "name": "stdout",
     "output_type": "stream",
     "text": [
      "type: <class 'IndexError'>\n",
      "msg: list index out of range\n",
      "資源清理\n"
     ]
    }
   ],
   "source": [
    "num1 = 10\n",
    "num2  = 0\n",
    "nums = [1,3,5,7,9]\n",
    "\n",
    "try:\n",
    " #print(num1 / num2)\n",
    "    print(nums[100])\n",
    "    \n",
    "except Exception as ex:\n",
    "    print(\"type:\",type(ex))\n",
    "    print(\"msg:\",str(ex))\n",
    "finally:\n",
    "    print(\"資源清理\")\n"
   ]
  },
  {
   "cell_type": "code",
   "execution_count": 15,
   "id": "bbd4ea38",
   "metadata": {},
   "outputs": [
    {
     "name": "stdout",
     "output_type": "stream",
     "text": [
      "輸入成績:65\n",
      "及格\n"
     ]
    }
   ],
   "source": [
    "def getResult(s):\n",
    "    if  60<=s<=100:\n",
    "        return \"及格\"\n",
    "    elif 0<= s < 60:\n",
    "        return \"不及格\"\n",
    "    else:\n",
    "        raise OverflowError\n",
    "\n",
    "score = int(input(\"輸入成績:\"))\n",
    "try:    \n",
    "    print(getResult(score))\n",
    "except:\n",
    "    print(\"錯誤的成績!\")\n"
   ]
  },
  {
   "cell_type": "code",
   "execution_count": 17,
   "id": "d77de930",
   "metadata": {},
   "outputs": [
    {
     "name": "stdout",
     "output_type": "stream",
     "text": [
      "This is a test File!\n",
      "There is no Chinese words\n",
      "in this file."
     ]
    }
   ],
   "source": [
    "filename = \"abc.txt\"\n",
    "fin = open(filename)\n",
    "line = fin.readline()\n",
    "\n",
    "while line:\n",
    "    print(line,end='')\n",
    "    line = fin.readline() \n"
   ]
  },
  {
   "cell_type": "code",
   "execution_count": 18,
   "id": "f244c0fa",
   "metadata": {},
   "outputs": [
    {
     "name": "stdout",
     "output_type": "stream",
     "text": [
      "Ada 92.1\n",
      "Buddy 71.2\n",
      "Candy 88.5\n",
      "David 82.3\n",
      "Emily 90.8\n",
      "Feng 55.8\n",
      "George 68.9\n",
      "Henry 77.2\n",
      "Iris 42.2\n",
      "Jimmy 81.4\n",
      "Keley 75.3\n",
      "Leon 80.2\n"
     ]
    }
   ],
   "source": [
    "import csv\n",
    "file = open('data2.csv','r')\n",
    "csvCusor = csv.reader(file)\n",
    "\n",
    "for row in csvCusor:\n",
    "    print(row[0],row[2])\n",
    "\n",
    "file.close()   "
   ]
  },
  {
   "cell_type": "code",
   "execution_count": 19,
   "id": "03e6edb2",
   "metadata": {},
   "outputs": [
    {
     "name": "stdout",
     "output_type": "stream",
     "text": [
      "Ada 92.1\n",
      "Buddy 71.2\n",
      "Candy 88.5\n",
      "David 82.3\n",
      "Emily 90.8\n",
      "Feng 55.8\n",
      "George 68.9\n",
      "Henry 77.2\n",
      "Iris 42.2\n",
      "Jimmy 81.4\n",
      "Keley 75.3\n",
      "Leon 80.2\n"
     ]
    }
   ],
   "source": [
    "import csv\n",
    "file = open('data.csv','r')\n",
    "csvCusor = csv.DictReader(file)\n",
    "\n",
    "for row in csvCusor:\n",
    "    print(row['name'],row['score'])\n",
    "file.close()    \n"
   ]
  },
  {
   "cell_type": "code",
   "execution_count": 20,
   "id": "8accf02c",
   "metadata": {},
   "outputs": [
    {
     "name": "stdout",
     "output_type": "stream",
     "text": [
      "1~5:5\n",
      "答錯了!\n"
     ]
    }
   ],
   "source": [
    "import random\n",
    "ans = random.randint(1,5)\n",
    "guess = int(input(\"1~5:\"))\n",
    "if (guess == ans):\n",
    "    print(\"答對了!\")\n",
    "else:\n",
    "    print(\"答錯了!\")    \n"
   ]
  },
  {
   "cell_type": "code",
   "execution_count": 21,
   "id": "586f2be7",
   "metadata": {},
   "outputs": [
    {
     "name": "stdout",
     "output_type": "stream",
     "text": [
      "橘子\n"
     ]
    }
   ],
   "source": [
    "import random\n",
    "\n",
    "fruites = [\"香蕉\",\"蘋果\",\"橘子\",\"西瓜\"]\n",
    "choice = random.choice(fruites)\n",
    "print(choice)\n"
   ]
  },
  {
   "cell_type": "code",
   "execution_count": 22,
   "id": "9969de04",
   "metadata": {},
   "outputs": [
    {
     "name": "stdout",
     "output_type": "stream",
     "text": [
      "['j', 'h', 'f']\n",
      "['香蕉', '橘子']\n"
     ]
    }
   ],
   "source": [
    "import random\n",
    "c = random.sample('abcdefghij',3)\n",
    "print(c)\n",
    "fruites = [\"香蕉\",\"蘋果\",\"橘子\",\"西瓜\"]\n",
    "f = random.sample(fruites,2)\n",
    "print(f)\n"
   ]
  },
  {
   "cell_type": "code",
   "execution_count": 23,
   "id": "ddda1475",
   "metadata": {},
   "outputs": [],
   "source": [
    "pi = 3.14159\n",
    "\n",
    "def calcArea(r):\n",
    "    return pi * r *r\n",
    "def toF(c):\n",
    "    return 9/5*c+32\n",
    "\n"
   ]
  },
  {
   "cell_type": "code",
   "execution_count": null,
   "id": "2e800a99",
   "metadata": {},
   "outputs": [],
   "source": [
    "import calculate\n",
    "\n",
    "area = calculate.calcArea(10)\n",
    "print(area)\n"
   ]
  },
  {
   "cell_type": "code",
   "execution_count": null,
   "id": "47434e7d",
   "metadata": {},
   "outputs": [],
   "source": [
    "import a.A as aa\n",
    "import a.b.A as aba\n",
    "import a.c.A as aca\n",
    "aa.show()\n",
    "aba.show()\n",
    "aca.show()"
   ]
  },
  {
   "cell_type": "code",
   "execution_count": 24,
   "id": "b23470c2",
   "metadata": {},
   "outputs": [
    {
     "name": "stdout",
     "output_type": "stream",
     "text": [
      "Sean\n",
      "50000\n",
      "David\n"
     ]
    }
   ],
   "source": [
    "class Employee:\n",
    "    pass\n",
    "emp = Employee()\n",
    "emp.name = \"Sean\"\n",
    "emp.salary = 50000\n",
    "\n",
    "print(emp.name)\n",
    "print(emp.salary)\n",
    "\n",
    "emp2 = Employee()\n",
    "emp2.name = \"David\"\n",
    "print(emp2.name)\n",
    "#print(emp2.salary)\n",
    "    "
   ]
  },
  {
   "cell_type": "code",
   "execution_count": 25,
   "id": "e310348d",
   "metadata": {},
   "outputs": [
    {
     "name": "stdout",
     "output_type": "stream",
     "text": [
      "員工資訊1\n",
      "name: Sean\n",
      "salary: 50000\n",
      "員工資訊2\n",
      "name: Iris\n",
      "salary: 25000\n"
     ]
    }
   ],
   "source": [
    "class Employee:\n",
    "    def __init__(self,name,salary = 20000):\n",
    "        #print(\"__init__\")\n",
    "        self.name = name\n",
    "        self.salary = salary\n",
    "    def printInfo(self,title):\n",
    "        print(title)\n",
    "        print(\"name:\",self.name)\n",
    "        print(\"salary:\",self.salary)\n",
    "emp =Employee(\"Sean\",50000)\n",
    "#print(emp.name)\n",
    "#print(emp.salary)\n",
    "emp.printInfo(\"員工資訊1\")\n",
    "emp2 =Employee(\"Iris\",25000)\n",
    "emp2.printInfo(\"員工資訊2\")\n",
    "#print(emp2.name)\n",
    "#print(emp2.salary)\n"
   ]
  },
  {
   "cell_type": "code",
   "execution_count": 26,
   "id": "b2f41290",
   "metadata": {},
   "outputs": [
    {
     "name": "stdout",
     "output_type": "stream",
     "text": [
      "Hi! Amy\n",
      "Hi! Amy\n",
      "Hi! Amy\n",
      "Hi! Amy\n"
     ]
    }
   ],
   "source": [
    "class Person:\n",
    "   def __init__(self,name):\n",
    "       self.name = name\n",
    "   def sayHi(self):\n",
    "       print(\"Hi!\",self.name)\n",
    "p1 = Person(\"Amy\")\n",
    "p1.sayHi()\n",
    "\n",
    "mySayHi =  p1.sayHi\n",
    "\n",
    "p1.sayHi()\n",
    "Person.sayHi(p1)\n",
    "mySayHi()\n"
   ]
  },
  {
   "cell_type": "code",
   "execution_count": 27,
   "id": "50010171",
   "metadata": {},
   "outputs": [
    {
     "name": "stdout",
     "output_type": "stream",
     "text": [
      "Ken\n",
      "好好玩電腦\n",
      "02-223114537\n",
      "Vivin\n",
      "好好玩電腦\n",
      "02-223114537\n"
     ]
    }
   ],
   "source": [
    "class Employee:\n",
    "    company = \"巨匠電腦\"\n",
    "    phone = \"02-223114537\"\n",
    "    def __init__(self,name):\n",
    "        self.name = name\n",
    "    def printInfo(self):\n",
    "        print(self.name)\n",
    "        print(Employee.company)\n",
    "        print(Employee.phone)\n",
    "emp1 = Employee(\"Sean\")\n",
    "emp2 = Employee(\"Vivin\")\n",
    "emp1.name = \"Ken\"\n",
    "Employee.company = \"好好玩電腦\"\n",
    "emp1.printInfo()\n",
    "emp2.printInfo()\n"
   ]
  },
  {
   "cell_type": "code",
   "execution_count": 28,
   "id": "106ca049",
   "metadata": {},
   "outputs": [
    {
     "name": "stdout",
     "output_type": "stream",
     "text": [
      "類別所屬類別: <class 'type'>\n",
      "類別所屬模組: __main__\n",
      "類別名稱: Student\n",
      "類別的父類別: (<class 'object'>,)\n",
      "類別空間字典: {'__module__': '__main__', '__doc__': '學生類別', 'school': 'pcschool', 'count': 0, '__init__': <function Student.__init__ at 0x0000024C87564D30>, 'displayCount': <function Student.displayCount at 0x0000024C8756D1F0>, '__printInfo__': <function Student.__printInfo__ at 0x0000024C8756D3A0>, '__dict__': <attribute '__dict__' of 'Student' objects>, '__weakref__': <attribute '__weakref__' of 'Student' objects>}\n",
      "類別文件字串: 學生類別\n",
      "方法文件字串: 選示學生人數\n",
      "\n",
      "物件所屬類別: <class '__main__.Student'>\n",
      "物件所屬模組: __main__\n",
      "物件空間字典: {'name': 'Sean'}\n",
      "物件文件字串: 學生類別\n",
      "方法文件字串: 選示學生人數\n"
     ]
    }
   ],
   "source": [
    "class Student:\n",
    "    '''學生類別'''\n",
    "    school=\"pcschool\"\n",
    "    count=0\n",
    "    def __init__(self, name):\n",
    "        self.name = name\n",
    "        Student.count += 1\n",
    "    def displayCount(self):\n",
    "        \"\"\"選示學生人數\"\"\"\n",
    "        print(\"學生人數:  %d\" % Student.count)\n",
    "    def __printInfo__(self):\n",
    "        return (\"姓名: \"+self.name)\n",
    "\n",
    "print(\"類別所屬類別:\", Student.__class__)\n",
    "print(\"類別所屬模組:\", Student.__module__)\n",
    "print(\"類別名稱:\", Student.__name__)\n",
    "print(\"類別的父類別:\", Student.__bases__)\n",
    "print(\"類別空間字典:\", Student.__dict__)\n",
    "print(\"類別文件字串:\", Student.__doc__)\n",
    "print(\"方法文件字串:\", Student.displayCount.__doc__)\n",
    "print()\n",
    "\n",
    "st = Student('Sean')\n",
    "print(\"物件所屬類別:\", st.__class__)\n",
    "print(\"物件所屬模組:\", st.__module__)\n",
    "print(\"物件空間字典:\", st.__dict__)\n",
    "print(\"物件文件字串:\", st.__doc__)\n",
    "print(\"方法文件字串:\", st.displayCount.__doc__)\n"
   ]
  },
  {
   "cell_type": "code",
   "execution_count": 29,
   "id": "d62c8d44",
   "metadata": {},
   "outputs": [
    {
     "name": "stdout",
     "output_type": "stream",
     "text": [
      "(1,3)\n"
     ]
    }
   ],
   "source": [
    "class Point:\n",
    "    def __init__(self,x=0,y=0):\n",
    "        self.x = x\n",
    "        self.y = y\n",
    "    def __str__(self):\n",
    "        return f\"({self.x},{self.y})\"\n",
    "pt1 = Point(1,3)            \n",
    "print(pt1)\n"
   ]
  },
  {
   "cell_type": "code",
   "execution_count": null,
   "id": "0b0b8162",
   "metadata": {},
   "outputs": [],
   "source": []
  }
 ],
 "metadata": {
  "kernelspec": {
   "display_name": "Python 3 (ipykernel)",
   "language": "python",
   "name": "python3"
  },
  "language_info": {
   "codemirror_mode": {
    "name": "ipython",
    "version": 3
   },
   "file_extension": ".py",
   "mimetype": "text/x-python",
   "name": "python",
   "nbconvert_exporter": "python",
   "pygments_lexer": "ipython3",
   "version": "3.8.15"
  }
 },
 "nbformat": 4,
 "nbformat_minor": 5
}
