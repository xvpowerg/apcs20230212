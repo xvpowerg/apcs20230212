{
 "cells": [
  {
   "cell_type": "code",
   "execution_count": 1,
   "id": "6906a2a3",
   "metadata": {},
   "outputs": [
    {
     "name": "stdout",
     "output_type": "stream",
     "text": [
      "14->3->16->23->7->20->"
     ]
    }
   ],
   "source": [
    "class Node:\n",
    "    def __init__(self, data):\n",
    "        self.data=data\n",
    "        self.left=None\n",
    "        self.right=None\n",
    "\n",
    "    def preorder(self):\n",
    "        print(self.data, end='->')\n",
    "        if self.left:\n",
    "            self.left.preorder()\n",
    "        if self.right:\n",
    "            self.right.preorder()\n",
    "\n",
    "nodeA = Node(14)\n",
    "nodeB = Node(3) ;  nodeA.left  = nodeB\n",
    "nodeC = Node(16);  nodeB.left  = nodeC\n",
    "nodeD = Node(23);  nodeB.right = nodeD\n",
    "nodeE = Node(7) ;  nodeA.right = nodeE\n",
    "nodeF = Node(20);  nodeE.right = nodeF\n",
    "\n",
    "root = nodeA\n",
    "\n",
    "root.preorder()\n"
   ]
  },
  {
   "cell_type": "code",
   "execution_count": 2,
   "id": "370c54a6",
   "metadata": {},
   "outputs": [
    {
     "name": "stdout",
     "output_type": "stream",
     "text": [
      "23 + 12 * 3 - 18 + 2 * 3 + 8 / 2 = 51.0\n"
     ]
    }
   ],
   "source": [
    "class Node:\n",
    "    def __init__(self, data):\n",
    "        self.data=data\n",
    "        self.left=None\n",
    "        self.right=None\n",
    "\n",
    "    def inorder(self):\n",
    "        if self.left:\n",
    "            self.left.inorder()\n",
    "        print(self.data, end=' ')\n",
    "        if self.right:\n",
    "            self.right.inorder()\n",
    "\n",
    "    def calc(self):\n",
    "        if self.data==None:\n",
    "            return 0\n",
    "        elif self.data in ops:\n",
    "            if self.data=='*' :\n",
    "                return (self.left.calc() * self.right.calc())   #乘法回傳left * right\n",
    "            elif self.data=='/' :\n",
    "                return (self.left.calc() / self.right.calc())   #除法回傳left / right\n",
    "            elif self.data=='+' :\n",
    "                return (self.left.calc() + self.right.calc())   #加法請傳left + right\n",
    "            elif self.data=='-' :\n",
    "                return (self.left.calc() - self.right.calc())   #減法回傳left - right\n",
    "        else:\n",
    "            return self.data\n",
    "        \n",
    "ops = ['+','-','*','/']\n",
    "n1 = Node('+')\n",
    "n2 = Node('-'); n1.left = n2\n",
    "n3 = Node('+'); n1.right= n3\n",
    "n4 = Node('+'); n2.left = n4\n",
    "n5 = Node(18);  n2.right= n5\n",
    "n6 = Node('*'); n3.left = n6\n",
    "n7 = Node('/'); n3.right= n7\n",
    "n8 = Node(23);  n4.left = n8\n",
    "n9 = Node('*'); n4.right= n9\n",
    "n12= Node(2);   n6.left = n12\n",
    "n13= Node(3);   n6.right= n13\n",
    "n14= Node(8);   n7.left = n14\n",
    "n15= Node(2);   n7.right= n15\n",
    "n18= Node(12);  n9.left = n18\n",
    "n19= Node(3);   n9.right= n19\n",
    "\n",
    "n1.inorder()\n",
    "print('=',n1.calc())"
   ]
  },
  {
   "cell_type": "code",
   "execution_count": 3,
   "id": "cf0eb7b5",
   "metadata": {},
   "outputs": [
    {
     "name": "stdout",
     "output_type": "stream",
     "text": [
      "20->15->4->17->30->32->\n",
      "4->15->17->20->30->32->\n"
     ]
    }
   ],
   "source": [
    "class Node:\n",
    "    def __init__(self, data=None):\n",
    "        self.data=data\n",
    "        self.left=None\n",
    "        self.right=None\n",
    "    def createTree(data):\n",
    "        root = Node(data[0])\n",
    "        for i in range(1, len(data)):\n",
    "            newNode = Node(data[i])\n",
    "            prev = ptr = root\n",
    "            while ptr!=None:\n",
    "                prev = ptr\n",
    "                if data[i]<ptr.data:\n",
    "                    ptr = ptr.left\n",
    "                else:\n",
    "                    ptr = ptr.right\n",
    "            if data[i]<prev.data:\n",
    "                prev.left = newNode\n",
    "            else:\n",
    "                prev.right = newNode\n",
    "##            root.preorder()\n",
    "##            print()\n",
    "##            root.inorder()\n",
    "##            print()\n",
    "        return root\n",
    "    def preorder(self):\n",
    "        print(self.data, end='->')\n",
    "        if self.left:\n",
    "            self.left.preorder()\n",
    "        if self.right:\n",
    "            self.right.preorder()    \n",
    "    def inorder(self):\n",
    "        if self.left:\n",
    "            self.left.inorder()        \n",
    "        print(self.data, end='->')\n",
    "        if self.right:\n",
    "            self.right.inorder()\n",
    "\n",
    "datas = [20,15,17,30,32,4]\n",
    "bst = Node.createTree(datas)\n",
    "\n",
    "bst.preorder()\n",
    "print()\n",
    "bst.inorder()\n",
    "print()"
   ]
  },
  {
   "cell_type": "code",
   "execution_count": 4,
   "id": "923ac112",
   "metadata": {},
   "outputs": [
    {
     "name": "stdout",
     "output_type": "stream",
     "text": [
      "20->\n",
      "20->\n",
      "20->15->\n",
      "15->20->\n",
      "20->15->17->\n",
      "15->17->20->\n",
      "20->15->17->30->\n",
      "15->17->20->30->\n",
      "20->15->17->30->32->\n",
      "15->17->20->30->32->\n",
      "20->15->4->17->30->32->\n",
      "4->15->17->20->30->32->\n",
      "20->15->4->17->30->32->\n",
      "4->15->17->20->30->32->\n"
     ]
    }
   ],
   "source": [
    "class Node:\n",
    "    def __init__(self, data=None):\n",
    "        self.data=data\n",
    "        self.left=None\n",
    "        self.right=None        \n",
    "    def insert(self, data):\n",
    "        ''' 建立二元樹 '''\n",
    "        if self.data:                           # 如果根節點存在\n",
    "            if data < self.data:                # 插入值小於目前節點值\n",
    "                if self.left:\n",
    "                    self.left.insert(data)      # 遞迴呼叫往下一層\n",
    "                else:\n",
    "                    self.left = Node(data)      # 建立新節點存放資料\n",
    "            else:                               # 插入值大於目前節點值\n",
    "                if self.right:\n",
    "                    self.right.insert(data)\n",
    "                else:\n",
    "                    self.right = Node(data)                \n",
    "        else:                                   # 如果根節點不存在\n",
    "            self.data = data                    # 建立根節點\n",
    "    def preorder(self):\n",
    "        print(self.data, end='->')\n",
    "        if self.left:\n",
    "            self.left.preorder()\n",
    "        if self.right:\n",
    "            self.right.preorder()\n",
    "    def inorder(self):\n",
    "        if self.left:\n",
    "            self.left.inorder()        \n",
    "        print(self.data, end='->')\n",
    "        if self.right:\n",
    "            self.right.inorder()\n",
    "\n",
    "bst = Node()  \n",
    "datas = [20,15,17,30,32,4]\n",
    "for d in datas:\n",
    "    bst.insert(d)\n",
    "    bst.preorder()\n",
    "    print()\n",
    "    bst.inorder()\n",
    "    print()\n",
    "\n",
    "bst.preorder()\n",
    "print()\n",
    "bst.inorder()\n",
    "print()\n"
   ]
  },
  {
   "cell_type": "code",
   "execution_count": 5,
   "id": "e3e1c61d",
   "metadata": {},
   "outputs": [
    {
     "name": "stdout",
     "output_type": "stream",
     "text": [
      "請輸入欲搜尋資料 : 17\n",
      "找到 17\n"
     ]
    }
   ],
   "source": [
    "class Node:\n",
    "    def __init__(self, data=None):\n",
    "        self.data=data\n",
    "        self.left=None\n",
    "        self.right=None        \n",
    "    def insert(self, data):\n",
    "        ''' 建立二元樹 '''\n",
    "        if self.data:                           # 如果根節點存在\n",
    "            if data < self.data:                # 插入值小於目前節點值\n",
    "                if self.left:\n",
    "                    self.left.insert(data)      # 遞迴呼叫往下一層\n",
    "                else:\n",
    "                    self.left = Node(data)      # 建立新節點存放資料\n",
    "            else:                               # 插入值大於目前節點值\n",
    "                if self.right:\n",
    "                    self.right.insert(data)\n",
    "                else:\n",
    "                    self.right = Node(data)                \n",
    "        else:                                   # 如果根節點不存在\n",
    "            self.data = data                    # 建立根節點\n",
    "    def preorder(self):\n",
    "        print(self.data, end='->')\n",
    "        if self.left:\n",
    "            self.left.preorder()\n",
    "        if self.right:\n",
    "            self.right.preorder()\n",
    "    def inorder(self):\n",
    "        if self.left:\n",
    "            self.left.inorder()        \n",
    "        print(self.data, end='->')\n",
    "        if self.right:\n",
    "            self.right.inorder()\n",
    "    def search(self, val):\n",
    "        ''' 搜尋特定值 '''                      \n",
    "        if val < self.data:                     # 如果搜尋值小於目前節點值\n",
    "            if not self.left:                   # 如果左子節點不存在\n",
    "                return str(val) + \" 不存在\"\n",
    "            return self.left.search(val)        # 遞迴繼續往左子樹找尋\n",
    "        elif val > self.data:                   # 如果搜尋值大於目前節點值\n",
    "            if not self.right:                  # 如果右子節點不存在\n",
    "                return str(val) + \" 不存在\"\n",
    "            return self.right.search(val)              \n",
    "        else:\n",
    "            return \"找到 \" + str(val)\n",
    "\n",
    "bst = Node()  \n",
    "datas = [20,15,17,30,32,4]\n",
    "for d in datas:\n",
    "    bst.insert(d)\n",
    "\n",
    "n = eval(input(\"請輸入欲搜尋資料 : \"))\n",
    "print(bst.search(n))\n"
   ]
  },
  {
   "cell_type": "code",
   "execution_count": 6,
   "id": "079ca818",
   "metadata": {},
   "outputs": [
    {
     "name": "stdout",
     "output_type": "stream",
     "text": [
      "無向圖形矩陣：\n",
      "[0] [1] [0] [0] [1] \n",
      "[1] [0] [1] [1] [0] \n",
      "[0] [1] [0] [1] [0] \n",
      "[0] [1] [1] [0] [0] \n",
      "[1] [0] [0] [0] [0] \n"
     ]
    }
   ],
   "source": [
    "arr=[[0]*6 for row in range(6)]             #宣告矩陣arr\n",
    "\n",
    "data=[[1,2],[2,1],[1,5],[5,1],              #圖形各邊的起點值及終點值\n",
    "      [2,3],[3,2],[2,4],[4,2],\n",
    "      [3,4],[4,3]]\n",
    "for i in range(10):                         #讀取圖形資料\n",
    "    tmpi=data[i][0]                 #tmpi為起始頂點\n",
    "    tmpj=data[i][1]                 #tmpj為終止頂點\n",
    "    arr[tmpi][tmpj]=1               #有邊的點填入1\n",
    "\n",
    "print('無向圖形矩陣：')\n",
    "for i in range(1,6):\n",
    "    for j in range(1,6):\n",
    "        print('[%d] ' %arr[i][j],end='')    #列印矩陣內容\n",
    "    print()\n"
   ]
  },
  {
   "cell_type": "code",
   "execution_count": 7,
   "id": "f697fafd",
   "metadata": {},
   "outputs": [
    {
     "name": "stdout",
     "output_type": "stream",
     "text": [
      "圖形的鄰接串列內容：\n",
      "----------------------------------\n",
      "頂點 1 =>[2] \n",
      "頂點 2 =>[1] [5] [3] [4] \n",
      "頂點 3 =>[2] [4] [5] \n",
      "頂點 4 =>[2] [3] [5] \n",
      "頂點 5 =>[2] [3] [4] \n"
     ]
    }
   ],
   "source": [
    "data=[[1,2],[2,1],[2,5],[5,2],                      #圖形陣列宣告\n",
    "      [2,3],[3,2],[2,4],[4,2],\n",
    "      [3,4],[4,3],[3,5],[5,3],\n",
    "      [4,5],[5,4]]\n",
    "\n",
    "graph = {}                                          #圖形dict宣告\n",
    "print('圖形的鄰接串列內容：')\n",
    "print('----------------------------------')\n",
    "for i in range(1,6):\n",
    "    graph[i] = []                                   #每個頂點對應一個空的list\n",
    "\n",
    "for j in range(len(data)):\n",
    "    graph[data[j][0]].append(data[j][1])\n",
    "    \n",
    "\n",
    "\n",
    "for k in graph:                                     #走訪圖形陣列\n",
    "    print('頂點 %d =>' %k, end='')                  #把頂點值列印出來\n",
    "    for l in graph[k]:\n",
    "        print('[%d] ' %l, end='')                    #列印相鄰頂點\n",
    "    print()    \n"
   ]
  },
  {
   "cell_type": "code",
   "execution_count": 8,
   "id": "e559aa1a",
   "metadata": {},
   "outputs": [
    {
     "name": "stdout",
     "output_type": "stream",
     "text": [
      "圖形的鄰接串列內容:\n",
      "頂點 1 =>[2] [3] \n",
      "頂點 2 =>[1] [4] [5] \n",
      "頂點 3 =>[1] [6] [7] \n",
      "頂點 4 =>[2] [8] \n",
      "頂點 5 =>[2] [8] \n",
      "頂點 6 =>[3] [8] \n",
      "頂點 7 =>[3] [8] \n",
      "頂點 8 =>[4] [5] [6] [7] \n",
      "深度優先走訪頂點:\n",
      "[1] [2] [4] [8] [5] [6] [3] [7] \n"
     ]
    }
   ],
   "source": [
    "class list_node:\n",
    "    def __init__(self):\n",
    "        self.val=0\n",
    "        self.next=None\n",
    "\n",
    "head=[list_node()]*9                            #宣告一個節點型態陣列\n",
    "\n",
    "data=[[1,2],[2,1],[1,3],[3,1],                  #圖形邊線陣列宣告 \n",
    "      [2,4],[4,2],[2,5],[5,2],\n",
    "      [3,6],[6,3],[3,7],[7,3],\n",
    "      [4,8],[8,4],[5,8],[8,5],\n",
    "      [6,8],[8,6],[8,7],[7,8]]\n",
    "\n",
    "for i in range(1,9):                            #共有八個頂點\n",
    "    head[i]=list_node()                         #設定各個串列首的初值\n",
    "    head[i].val = i\n",
    "    head[i].next=None\n",
    "    ptr=head[i]                                 #設定指標為串列首\n",
    "    for j in range(len(data)):                  #二十條邊線\n",
    "        if data[j][0]==i:                       #如果起點和串列首相等，則把頂點加入串列\n",
    "            newnode=list_node()\n",
    "            newnode.val=data[j][1]\n",
    "            newnode.next=None\n",
    "            while ptr.next:\n",
    "                ptr=ptr.next            \n",
    "            ptr.next=newnode                    #加入新節點\n",
    "\n",
    "run=[0]*9\n",
    "print('圖形的鄰接串列內容:')                    #列印圖形的鄰接串列內容            \n",
    "for j in range(1,9):\n",
    "    run[i]=0                                    #設定所有頂點成尚未走訪過\n",
    "    print('頂點 %d =>' %head[j].val,end='')\n",
    "    ptr=head[j] \n",
    "    while ptr.next:\n",
    "        ptr=ptr.next\n",
    "        print('[%d] ' %ptr.val,end='')\n",
    "    print()\n",
    "\n",
    "def dfs(current):                               #深度優先函數    \n",
    "    run[current]=1\n",
    "    print('[%d] ' %current, end='')\n",
    "    ptr=head[current].next\n",
    "    while ptr!=None:\n",
    "        if run[ptr.val]==0:                     #如果頂點尚未走訪，\n",
    "            dfs(ptr.val)                        #就進行dfs的遞迴呼叫\n",
    "        ptr=ptr.next\n",
    "\n",
    "print('深度優先走訪頂點:')                      #列印深度優先走訪的頂點\n",
    "dfs(1)\n",
    "print()\n"
   ]
  },
  {
   "cell_type": "code",
   "execution_count": 9,
   "id": "881df240",
   "metadata": {},
   "outputs": [
    {
     "name": "stdout",
     "output_type": "stream",
     "text": [
      "['A', 'B', 'E', 'C', 'F', 'I', 'J', 'D', 'G', 'H']\n"
     ]
    }
   ],
   "source": [
    "def dfs(graph, start):\n",
    "    ''' 深度優先搜尋法 '''\n",
    "    path = []                               # 拜訪過的節點\n",
    "    stack = [start]                         # 模擬堆疊\n",
    "    while stack:        \n",
    "        node = stack.pop()                  # pop堆疊\n",
    "        path.append(node)                   # 加入已拜訪行列\n",
    "        for n in graph[node]:               # 將相鄰節點放入佇列\n",
    "            stack.append(n)\n",
    "    return path\n",
    "\n",
    "graph = {'A':['D', 'C', 'B'],\n",
    "         'B':['E'],\n",
    "         'C':['F'],\n",
    "         'D':['H', 'G'],\n",
    "         'E':[],\n",
    "         'F':['J', 'I'],\n",
    "         'G':[],\n",
    "         'H':[],\n",
    "         'I':[],\n",
    "         'J':[]\n",
    "        } \n",
    "print(dfs(graph,'A'))\n"
   ]
  },
  {
   "cell_type": "code",
   "execution_count": 10,
   "id": "de8411e8",
   "metadata": {},
   "outputs": [
    {
     "name": "stdout",
     "output_type": "stream",
     "text": [
      "['V0', 'V1', 'V3', 'V7', 'V4', 'V5', 'V2', 'V6']\n"
     ]
    }
   ],
   "source": [
    "def dfs(graph, node, path=[]):\n",
    "    ''' 深度優先搜尋法 '''\n",
    "    path += [node]                          # 路徑    \n",
    "    for n in graph[node]:                   # 將相鄰節點放入佇列\n",
    "        if n not in path:\n",
    "            path = dfs(graph, n, path)\n",
    "    return path\n",
    "\n",
    "graph = {'V0':['V1', 'V2'],\n",
    "         'V1':['V0', 'V3', 'V4'],\n",
    "         'V2':['V0', 'V5', 'V6'],\n",
    "         'V3':['V1', 'V7',],\n",
    "         'V4':['V1', 'V7',],\n",
    "         'V5':['V2', 'V7',],\n",
    "         'V6':['V1', 'V7',],\n",
    "         'V7':['V3', 'V4', 'V5', 'V6',]} \n",
    "print(dfs(graph,'V0'))\n"
   ]
  },
  {
   "cell_type": "code",
   "execution_count": 11,
   "id": "07101c1e",
   "metadata": {},
   "outputs": [
    {
     "name": "stdout",
     "output_type": "stream",
     "text": [
      "圖形的鄰接串列內容:\n",
      "頂點 1 =>[2] [3] \n",
      "頂點 2 =>[1] [4] [5] \n",
      "頂點 3 =>[1] [6] [7] \n",
      "頂點 4 =>[2] [8] \n",
      "頂點 5 =>[2] [8] \n",
      "頂點 6 =>[3] [8] \n",
      "頂點 7 =>[3] [8] \n",
      "頂點 8 =>[4] [5] [6] [7] \n",
      "廣度優先走訪頂點：\n",
      "[1][2][3][4][5][6][7][8]\n"
     ]
    }
   ],
   "source": [
    "class list_node:\n",
    "    def __init__(self):\n",
    "        self.val=0\n",
    "        self.next=None\n",
    "\n",
    "head=[list_node()]*9                            #宣告一個節點型態陣列\n",
    "\n",
    "data=[[1,2],[2,1],[1,3],[3,1],                  #圖形邊線陣列宣告 \n",
    "      [2,4],[4,2],[2,5],[5,2],\n",
    "      [3,6],[6,3],[3,7],[7,3],\n",
    "      [4,8],[8,4],[5,8],[8,5],\n",
    "      [6,8],[8,6],[8,7],[7,8]]\n",
    "\n",
    "for i in range(1,9):                            #共有八個頂點\n",
    "    head[i]=list_node()                         #設定各個串列首的初值\n",
    "    head[i].val = i\n",
    "    head[i].next=None\n",
    "    ptr=head[i]                                 #設定指標為串列首\n",
    "    for j in range(len(data)):                  #二十條邊線\n",
    "        if data[j][0]==i:                       #如果起點和串列首相等，則把頂點加入串列\n",
    "            newnode=list_node()\n",
    "            newnode.val=data[j][1]\n",
    "            newnode.next=None\n",
    "            while ptr.next:\n",
    "                ptr=ptr.next            \n",
    "            ptr.next=newnode                    #加入新節點\n",
    "\n",
    "run=[0]*9\n",
    "print('圖形的鄰接串列內容:')                    #列印圖形的鄰接串列內容            \n",
    "for j in range(1,9):\n",
    "    run[i]=0                                    #設定所有頂點成尚未走訪過\n",
    "    print('頂點 %d =>' %head[j].val,end='')\n",
    "    ptr=head[j] \n",
    "    while ptr.next:\n",
    "        ptr=ptr.next\n",
    "        print('[%d] ' %ptr.val,end='')\n",
    "    print()\n",
    "    \n",
    "def bfs(current, queue):\n",
    "    if run[current]==0:\n",
    "        run[current]=1                          #將走訪過的頂點設定為1\n",
    "        print('[%d]' %current,end='')\n",
    "        ptr=head[current].next\n",
    "        while ptr!=None:\n",
    "            if run[ptr.val]==0 and \\\n",
    "               ptr.val not in queue:\n",
    "                queue.append(ptr.val)\n",
    "            ptr = ptr.next\n",
    "    if not queue:\n",
    "        return\n",
    "    else:\n",
    "        nextNode = queue.pop(0)\n",
    "        bfs(nextNode, queue)\n",
    "\n",
    "print('廣度優先走訪頂點：')                     #列印廣度優先走訪的頂點\n",
    "queue = []\n",
    "bfs(1,queue)\n",
    "print()\n"
   ]
  },
  {
   "cell_type": "code",
   "execution_count": 12,
   "id": "1149b2ac",
   "metadata": {},
   "outputs": [
    {
     "name": "stdout",
     "output_type": "stream",
     "text": [
      "['A', 'B', 'C', 'D', 'E', 'F', 'G', 'H', 'I', 'J']\n"
     ]
    }
   ],
   "source": [
    "def bfs(graph, start):\n",
    "    ''' 廣度優先搜尋法 '''\n",
    "    visited = []                            # 拜訪過的頂點\n",
    "    queue = [start]                         # 模擬佇列\n",
    "    while queue:        \n",
    "        node = queue.pop(0)                 # 取索引0的值\n",
    "        if node not in visited:\n",
    "            visited.append(node)            # 加入已拜訪行列\n",
    "            neighbors = graph[node]         # 取得已拜訪節點的相鄰節點           \n",
    "            for n in neighbors:             # 將相鄰節點放入佇列\n",
    "                queue.append(n)\n",
    "    return visited\n",
    "\n",
    "graph = {'A':['B', 'C', 'D'],\n",
    "         'B':['A', 'E'],\n",
    "         'C':['A', 'F'],\n",
    "         'D':['A', 'G', 'H'],\n",
    "         'E':['B'],\n",
    "         'F':['C', 'I', 'J'],\n",
    "         'G':['D'],\n",
    "         'H':['D'],\n",
    "         'I':['F'],\n",
    "         'J':['F']\n",
    "        } \n",
    "print(bfs(graph,'A'))\n"
   ]
  },
  {
   "cell_type": "code",
   "execution_count": 13,
   "id": "7076bbbd",
   "metadata": {},
   "outputs": [
    {
     "name": "stdout",
     "output_type": "stream",
     "text": [
      "['V0', 'V1', 'V2', 'V3', 'V4', 'V5', 'V6', 'V7']\n"
     ]
    }
   ],
   "source": [
    "def bfs(node):\n",
    "    ''' 廣度優先搜尋法 '''\n",
    "    global graph, queue, visited\n",
    "    if node not in visited:\n",
    "        visited.append(node)            # 加入已拜訪行列 \n",
    "        for n in graph[node]:           # 取得已拜訪節點的相鄰節點\n",
    "            if n not in visited:\n",
    "                queue.append(n)         # 將相鄰節點放入佇列\n",
    "    if not queue and visited:\n",
    "        return\n",
    "    else:\n",
    "        nextNode = queue.pop(0)         # 取索引0的值\n",
    "        bfs(nextNode)\n",
    "\n",
    "graph = {'V0':['V1', 'V2'],\n",
    "         'V1':['V0', 'V3', 'V4'],\n",
    "         'V2':['V0', 'V5', 'V6'],\n",
    "         'V3':['V1', 'V7',],\n",
    "         'V4':['V1', 'V7',],\n",
    "         'V5':['V2', 'V7',],\n",
    "         'V6':['V1', 'V7',],\n",
    "         'V7':['V3', 'V4', 'V5', 'V6',]}\n",
    "visited = []                            # 拜訪過的頂點\n",
    "queue = []                              # 模擬佇列\n",
    "bfs('V0')\n",
    "print(visited)\n"
   ]
  },
  {
   "cell_type": "code",
   "execution_count": 14,
   "id": "3bc68dac",
   "metadata": {},
   "outputs": [
    {
     "name": "stdout",
     "output_type": "stream",
     "text": [
      "[35, 5, 66, 49, 1, 50, 24, 38, 81, 76]\n",
      "223\n",
      "最大3個數字和為 223\n"
     ]
    }
   ],
   "source": [
    "import random\n",
    "\n",
    "nums = random.sample(range(1,100), 10)\n",
    "print(nums)\n",
    "\n",
    "nums.sort(reverse=True)\n",
    "print(sum(nums[:3]))\n",
    "\n",
    "nSum3 = 0\n",
    "for i in range(3):\n",
    "    maxNum = 0\n",
    "    for j in range(len(nums)):\n",
    "        if nums[j]>maxNum:\n",
    "            maxNum = nums[j]\n",
    "    nSum3 += maxNum\n",
    "    nums.remove(maxNum)\n",
    "\n",
    "print('最大3個數字和為', nSum3)\n",
    "\n"
   ]
  },
  {
   "cell_type": "code",
   "execution_count": 15,
   "id": "5d1c0650",
   "metadata": {},
   "outputs": [
    {
     "name": "stdout",
     "output_type": "stream",
     "text": [
      "輸入金額77\n",
      "50元硬幣1個\n",
      "10元硬幣2個\n",
      "5元硬幣1個\n",
      "1元硬幣2個\n",
      "共6個硬幣\n"
     ]
    }
   ],
   "source": [
    "coinType = (50,10,5,1)\n",
    "def exchange(amt):\n",
    "    global count\n",
    "    result={}\n",
    "    for coin in coinType:\n",
    "        num = amt // coin\n",
    "        result[coin] = num\n",
    "        count+=num\n",
    "        amt %= coin\n",
    "    return result  \n",
    "count =0 \n",
    "amount = int(input(\"輸入金額\"))\n",
    "ans = exchange(amount)\n",
    "for coin in coinType:\n",
    "    print(f\"{coin}元硬幣{ans[coin]}個\")\n",
    "print(f\"共{count}個硬幣\")    "
   ]
  },
  {
   "cell_type": "code",
   "execution_count": 17,
   "id": "8b0f857e",
   "metadata": {},
   "outputs": [
    {
     "name": "stdout",
     "output_type": "stream",
     "text": [
      "輸入水量77\n",
      "30公升容量2個\n",
      "18公升容量0個\n",
      "5公升容量3個\n",
      "1公升容量2個\n",
      "共使用7個容器\n"
     ]
    }
   ],
   "source": [
    "bottleType = (30,18,5,1)\n",
    "def exchange(amt):\n",
    "    global count\n",
    "    result={}\n",
    "    for bottle in bottleType:\n",
    "        num = amt // bottle \n",
    "        result[bottle] = num\n",
    "        count+=num\n",
    "        amt %= bottle\n",
    "    return result  \n",
    "count =0 \n",
    "amount = int(input(\"輸入水量\"))\n",
    "ans = exchange(amount)\n",
    "for bottle in bottleType:\n",
    "    print(f\"{bottle}公升容量{ans[bottle]}個\")\n",
    "print(f\"共使用{count}個容器\") "
   ]
  },
  {
   "cell_type": "code",
   "execution_count": 18,
   "id": "97e366cd",
   "metadata": {},
   "outputs": [
    {
     "name": "stdout",
     "output_type": "stream",
     "text": [
      "輸入兌換金額:77\n",
      "最少需換成6個硬幣\n"
     ]
    }
   ],
   "source": [
    "coinType=(50,10,5,1)\n",
    "def exchange(amt):\n",
    "    dp = [amt + 1] * (amt + 1)                  # 構建dp動態陣列\n",
    "    dp[0] = 0                                   # 初始化\n",
    "    \n",
    "    for i in range(1, amt + 1):\n",
    "        temp = [dp[i]]                          # 每一個金額，所有能湊成的方案的硬幣數，最後取最小值\n",
    "        for coin in coinType:\n",
    "            if i >= coin:\n",
    "                temp.append(dp[i-coin]+1)       # 當金額大於某一個硬幣時才考慮，否則一定無法用大額硬幣湊成小額\n",
    "        dp[i] = min(temp)\n",
    "    #print(dp)\n",
    "    return -1 if dp[-1] == amt + 1 else dp[-1]\n",
    "\n",
    "count = 0\n",
    "amount = int(input('輸入兌換金額:'))\n",
    "answer=exchange(amount)\n",
    "print('最少需換成%d個硬幣'%answer)\n"
   ]
  },
  {
   "cell_type": "code",
   "execution_count": 21,
   "id": "a47326ee",
   "metadata": {},
   "outputs": [
    {
     "name": "stdout",
     "output_type": "stream",
     "text": [
      "輸入總載重量:790\n",
      "最多能載780公斤寶物\n"
     ]
    }
   ],
   "source": [
    "treasures = [50, 160, 20, 100, 20, 60, 90, 120, 150, 30]\n",
    "treasures.sort()\n",
    "def load(items, w):\n",
    "    if len(items)==0:\n",
    "        return 0\n",
    "    elif w==0:\n",
    "        return 0\n",
    "    else:\n",
    "        for i in range(len(items)):\n",
    "            if items[i]>w:\n",
    "                return 0\n",
    "            elif items[i] == w:\n",
    "                return w\n",
    "            else:\n",
    "                #現在重量之前的 與 現在重量之後的 合併為一組陣列 剩下的其他重量\n",
    "                reItems = items[:i]+items[i+1:]\n",
    "                #現在重量 （item[i]）+ load （剩下的其他重量,扣除了目前重量的總重量) , 假如不放目前的重量\n",
    "                return max(items[i]+load(reItems, w-items[i]),load(reItems, w))\n",
    "\n",
    "amount = int(input('輸入總載重量:'))\n",
    "answer=load(treasures, amount)\n",
    "print('最多能載%d公斤寶物'%answer)"
   ]
  },
  {
   "cell_type": "code",
   "execution_count": 22,
   "id": "692a9581",
   "metadata": {},
   "outputs": [
    {
     "name": "stdout",
     "output_type": "stream",
     "text": [
      "輸入背包載重量:10\n",
      "[0, 20, 60, 80, 120, 140, 180, 200, 240, 260, 300]\n",
      "10公斤背包可放入物品最大價值為$300\n"
     ]
    }
   ],
   "source": [
    "class item:\n",
    "    def __init__(self, weight, value):\n",
    "        self.weight = weight\n",
    "        self.value = value\n",
    "\n",
    "def getMaxValue(amt, itemList):\n",
    "    dp = [0]*(amt + 1)\n",
    "    dp[0] = 0\n",
    "    for i in range(1, amt + 1):\n",
    "        temp = [dp[i]]\n",
    "        for item in itemList:\n",
    "            if i>=item.weight:\n",
    "                temp.append(item.value+dp[i-item.weight])\n",
    "        dp[i] = max(temp)\n",
    "    print(dp)\n",
    "    return dp[-1]\n",
    "      \n",
    "weights = [1,2,3]\n",
    "values = [20,60,45]\n",
    "items = []\n",
    "for w,v in zip(weights, values):\n",
    "    items.append(item(w,v))\n",
    "\n",
    "capacity = int(input('輸入背包載重量:'))\n",
    "maxValue = getMaxValue(capacity, items)\n",
    "print('%d公斤背包可放入物品最大價值為$%d' %(capacity, maxValue))\n"
   ]
  },
  {
   "cell_type": "code",
   "execution_count": 23,
   "id": "ecfd0bab",
   "metadata": {},
   "outputs": [
    {
     "name": "stdout",
     "output_type": "stream",
     "text": [
      "輸入總載重量:400\n",
      "最多能載價值280元的寶物\n"
     ]
    }
   ],
   "source": [
    "class item:\n",
    "    def __init__(self, weight, value):\n",
    "        self.weight = weight\n",
    "        self.value = value\n",
    "    def __lt__(self, other):\n",
    "        return self.value<other.value\n",
    "    def __str__(self):\n",
    "        return '%d(%d)'%(self.weight,self.value)\n",
    "\n",
    "def load(items, w):\n",
    "    if not items:\n",
    "        return 0\n",
    "    if not w:\n",
    "        return 0\n",
    "    for i in range(len(items)):\n",
    "        if items[i].weight>w:\n",
    "            return 0\n",
    "        elif items[i].weight == w:\n",
    "            return items[i].value\n",
    "        else:\n",
    "            reItems = []\n",
    "            reItems.extend(items[:i])\n",
    "            reItems.extend(items[i+1:])\n",
    "            return max(load(reItems, w),\n",
    "                items[i].value+load(reItems, w-items[i].weight))\n",
    "\n",
    "treasures = [50,160,20,100,20,60,90,120,150,30]\n",
    "values = [40,10,50,60,50,20,50,30,60,30]\n",
    "tItems = []\n",
    "for w,v in zip(treasures, values):\n",
    "    tItems.append(item(w,v))\n",
    "tItems.sort(reverse=True)\n",
    "\n",
    "capacity = int(input('輸入總載重量:'))\n",
    "maxValue=load(tItems, capacity)\n",
    "print('最多能載價值%d元的寶物'%maxValue)\n"
   ]
  },
  {
   "cell_type": "code",
   "execution_count": null,
   "id": "7a862b29",
   "metadata": {},
   "outputs": [],
   "source": []
  }
 ],
 "metadata": {
  "kernelspec": {
   "display_name": "Python 3 (ipykernel)",
   "language": "python",
   "name": "python3"
  },
  "language_info": {
   "codemirror_mode": {
    "name": "ipython",
    "version": 3
   },
   "file_extension": ".py",
   "mimetype": "text/x-python",
   "name": "python",
   "nbconvert_exporter": "python",
   "pygments_lexer": "ipython3",
   "version": "3.8.16"
  }
 },
 "nbformat": 4,
 "nbformat_minor": 5
}
