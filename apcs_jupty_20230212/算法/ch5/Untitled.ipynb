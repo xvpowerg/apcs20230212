{
 "cells": [
  {
   "cell_type": "code",
   "execution_count": 1,
   "id": "8d0941ff",
   "metadata": {},
   "outputs": [
    {
     "name": "stdout",
     "output_type": "stream",
     "text": [
      "69153 - 2487 =66666\n",
      "69513 - 2847 =66666\n",
      "71358 - 4692 =66666\n",
      "71529 - 4863 =66666\n",
      "71934 - 5268 =66666\n",
      "73158 - 6492 =66666\n",
      "73194 - 6528 =66666\n",
      "73491 - 6825 =66666\n",
      "74931 - 8265 =66666\n",
      "75129 - 8463 =66666\n"
     ]
    }
   ],
   "source": [
    "from itertools import permutations\n",
    "\n",
    "listo9=[1,2,3,4,5,6,7,8,9]\n",
    "plist = list(permutations(listo9))\n",
    "\n",
    "# list[4] - list[8] 個位數是6\n",
    "# list[8] - list[4] 借位做減法後為6\n",
    "# 313 - 137 借位後相減為6\n",
    "for list in plist:\n",
    "    if (list[0] == 6 or list[0] == 7):\n",
    "        if ((list[4] - list[8] == 6) or (list[8] - list[4] == 4)):\n",
    "            n1 = list[0] * 10000 + list[1]*1000 + list[2] * 100 + list[3] * 10 + list[4]\n",
    "            n2 = list[5] * 1000 + list[6]*100 + list[7]*10 + list[8]\n",
    "            if (n1-n2) == 66666:\n",
    "                print(n1,\"-\",n2,\"=66666\")\n"
   ]
  },
  {
   "cell_type": "code",
   "execution_count": 2,
   "id": "d4c759db",
   "metadata": {},
   "outputs": [
    {
     "name": "stdout",
     "output_type": "stream",
     "text": [
      "樹高10\n",
      "白天上升2\n",
      "晚上下降1\n",
      "days: 9\n"
     ]
    }
   ],
   "source": [
    "H =int(input(\"樹高\")) \n",
    "D =int(input(\"白天上升\"))\n",
    "N =int(input(\"晚上下降\"))\n",
    "\n",
    "height = D\n",
    "days=1\n",
    "while height < H:\n",
    "    height -= N\n",
    "    height += D\n",
    "    days += 1\n",
    "print(\"days:\",days)    "
   ]
  },
  {
   "cell_type": "code",
   "execution_count": 3,
   "id": "bb3912cf",
   "metadata": {},
   "outputs": [
    {
     "name": "stdout",
     "output_type": "stream",
     "text": [
      "[1, 2, 3, 4]\n",
      "[1, 2, 3, 5]\n",
      "[1, 2, 3, 6]\n",
      "[1, 2, 4, 5]\n",
      "[1, 2, 4, 6]\n",
      "[1, 2, 5, 6]\n",
      "[1, 3, 4, 5]\n",
      "[1, 3, 4, 6]\n",
      "[1, 3, 5, 6]\n",
      "[1, 4, 5, 6]\n",
      "[2, 3, 4, 5]\n",
      "[2, 3, 4, 6]\n",
      "[2, 3, 5, 6]\n",
      "[2, 4, 5, 6]\n",
      "[3, 4, 5, 6]\n"
     ]
    }
   ],
   "source": [
    "def combine(lst, n):\n",
    "    #print(f\"tag {tag} list:{lst} n:{n} for:{len(lst)-n}\")\n",
    "    out = []\n",
    "    #當 m== n 或 n =1 時返回\n",
    "    if len(lst)==n:#元素個數等於取值數量\n",
    "        return [lst]\n",
    "    elif n==1:#取值數量為1時傳回單一元素組成集合\n",
    "        return [[x] for x in lst]\n",
    "    else:        \n",
    "        for i in range(len(lst)-n):#目前list數量減去取值數量\n",
    "            for c1 in combine(lst[i+1:], n-1):#這是i索引屬值在裡面的狀況 C(n - 1, m - 1)\n",
    "                ls = [lst[i]]#i索引屬值在裡面\n",
    "                ls.extend(c1)\n",
    "                if ls not in out:#排除重複部分\n",
    "                    out.append(ls)\n",
    "               \n",
    "            for c2 in combine(lst[i+1:], n):#這是i索引屬值不在裡面的狀況 C(n - 1, m) \n",
    "                ls = []#i索引屬值不在裡面\n",
    "                ls.extend(c2)\n",
    "                if ls not in out:#排除重複部分\n",
    "                    out.append(ls)                \n",
    "    return out\n",
    "myList = combine([1,2,3,4,5,6], 4)\n",
    "for l in myList:\n",
    "    print(l)\n"
   ]
  },
  {
   "cell_type": "code",
   "execution_count": 4,
   "id": "64b5f9e4",
   "metadata": {},
   "outputs": [
    {
     "name": "stdout",
     "output_type": "stream",
     "text": [
      "猜一個1~100的整數:50\n",
      "猜一個51~100的整數:70\n",
      "猜一個71~100的整數:80\n",
      "猜一個81~100的整數:90\n",
      "猜一個91~100的整數:95\n",
      "猜對了!\n"
     ]
    }
   ],
   "source": [
    "import random\n",
    "\n",
    "def guessCheck(gus, low, high):\n",
    "    #print(\"guessCheck(%d, %d, %d, %d)\"%(ans, gus, low, high))\n",
    "    global answer\n",
    "    if answer==gus:\n",
    "        print('猜對了!')\n",
    "    else:\n",
    "        if(answer>gus):\n",
    "            low=gus+1\n",
    "        else:\n",
    "            high=gus-1\n",
    "        guess = int(input('猜一個%d~%d的整數:'%(low,high)))\n",
    "        return guessCheck(guess, low, high)\n",
    "\n",
    "\n",
    "start, end = 1, 100\n",
    "answer = random.randint(start, end)\n",
    "#print(answer)\n",
    "guess = int(input('猜一個%d~%d的整數:'%(start,end)))\n",
    "guessCheck(guess, start, end)\n"
   ]
  },
  {
   "cell_type": "code",
   "execution_count": 6,
   "id": "284b52cc",
   "metadata": {},
   "outputs": [
    {
     "name": "stdout",
     "output_type": "stream",
     "text": [
      "輸入整數2\n",
      "mid:1.0\n",
      "mid:1.5\n",
      "mid:1.25\n",
      "mid:1.375\n",
      "mid:1.4375\n",
      "mid:1.40625\n",
      "mid:1.421875\n",
      "mid:1.4140625\n",
      "mid:1.41796875\n",
      "mid:1.416015625\n",
      "mid:1.4150390625\n",
      "2的平方根1.415\n"
     ]
    }
   ],
   "source": [
    "from math import fabs\n",
    "def sqrt_binary(x,pre=2):\n",
    "    min,max=0,x\n",
    "    while((max-min) > 10 ** (-pre)):#需扣除整數部分留下小數\n",
    "        mid = (min+max) / 2       \n",
    "        if (mid*mid > x):\n",
    "            max = mid\n",
    "        else:\n",
    "            min = mid\n",
    "        print(f\"mid:{mid}\")\n",
    "    return mid\n",
    "\n",
    "num = int(input(\"輸入整數\"))\n",
    "print(f\"{num}的平方根{sqrt_binary(num,3):.3f}\")\n"
   ]
  },
  {
   "cell_type": "code",
   "execution_count": 7,
   "id": "0db1fade",
   "metadata": {},
   "outputs": [
    {
     "name": "stdout",
     "output_type": "stream",
     "text": [
      "輸入整數2\n",
      "2的平方根1.415\n"
     ]
    }
   ],
   "source": [
    "def sqrt_binary(x,min,max,pre=2):\n",
    "    #當前上下限沒超過目前\n",
    "    if ((max - min)<10**(-pre)):\n",
    "          return (min+max)/2\n",
    "    mid = (min+max)/2\n",
    "    if (mid*mid < x):\n",
    "        return sqrt_binary(x,mid,max,pre)\n",
    "    else:\n",
    "        return sqrt_binary(x,min,mid,pre)\n",
    "            \n",
    "num = int(input(\"輸入整數\"))\n",
    "print(f\"{num}的平方根{sqrt_binary(num,0,num,3):.3f}\")\n"
   ]
  },
  {
   "cell_type": "code",
   "execution_count": 5,
   "id": "3621a27d",
   "metadata": {},
   "outputs": [
    {
     "name": "stdout",
     "output_type": "stream",
     "text": [
      "請輸入套環數量：3\n",
      "1套環從 A 移到 C\n",
      "2套環從 A 移到 B\n",
      "1套環從 C 移到 B\n",
      "3套環從 A 移到 C\n",
      "1套環從 B 移到 A\n",
      "2套環從 B 移到 C\n",
      "1套環從 A 移到 C\n"
     ]
    }
   ],
   "source": [
    "#p1 來源\n",
    "#p2 中繼\n",
    "#p3 目標\n",
    "def hanoi(n, p1, p2, p3):\n",
    "    if n==1: # 遞迴出口\n",
    "        print(f'{n}套環從 {p1} 移到 {p3}' )\n",
    "    else:\n",
    "        hanoi(n-1, p1, p3, p2)#來源P1 P3改為中繼 P2改為目標  來源不變\n",
    "        print(f'{n}套環從 {p1} 移到 {p3}' )\n",
    "        #print('%d套環從 %s 移到 %s' %(n, p1, p3))#n-1完成後把最大的放到目標柱\n",
    "        hanoi(n-1, p2, p1, p3)#中繼(P2)來源改為 來源改為P1中繼為 目標是P3\n",
    "\n",
    "i=int(input('請輸入套環數量：'))\n",
    "hanoi(i,'A', 'B', 'C')\n"
   ]
  },
  {
   "cell_type": "code",
   "execution_count": 8,
   "id": "c49d0855",
   "metadata": {},
   "outputs": [
    {
     "name": "stdout",
     "output_type": "stream",
     "text": [
      "氣泡排序法：原始資料為：\n",
      " 16 25 39 63 27 12  8 45\n",
      "========================\n",
      "[16, 25, 39, 27, 12, 8, 45, 63]\n",
      "[16, 25, 27, 12, 8, 39, 45, 63]\n",
      "[16, 25, 12, 8, 27, 39, 45, 63]\n",
      "[16, 12, 8, 25, 27, 39, 45, 63]\n",
      "[12, 8, 16, 25, 27, 39, 45, 63]\n",
      "[8, 12, 16, 25, 27, 39, 45, 63]\n",
      "[8, 12, 16, 25, 27, 39, 45, 63]\n",
      "========================\n",
      "  8 12 16 25 27 39 45 63\n"
     ]
    }
   ],
   "source": [
    "def showdata(data_list):\n",
    "    for i in range(len(data_list)):\n",
    "        print('%3d' %data_list[i],end='')\n",
    "    print()\n",
    "\n",
    "data=[16,25,39,63,27,12,8,45]\t                # 原始資料 \n",
    "print('氣泡排序法：原始資料為：')\n",
    "showdata(data)\n",
    "\n",
    "n = len(data)\n",
    "print(\"========================\")    \n",
    "for i in range(1,n):\n",
    "    for j in range(n-i):\n",
    "        if data[j] > data[j+1]:\n",
    "            data[j],data[j+1] = data[j+1],data[j]\n",
    "    print(data)\n",
    "print(\"========================\")    \n",
    "showdata(data)\n"
   ]
  },
  {
   "cell_type": "code",
   "execution_count": 9,
   "id": "f9c09d9d",
   "metadata": {},
   "outputs": [
    {
     "name": "stdout",
     "output_type": "stream",
     "text": [
      "選擇排序法:原始資料為：\n",
      " 16 25 39 63 27 12  8 45\n",
      "  8 25 39 63 27 12 16 45\n",
      "  8 12 39 63 27 25 16 45\n",
      "  8 12 16 63 27 25 39 45\n",
      "  8 12 16 25 27 63 39 45\n",
      "  8 12 16 25 27 63 39 45\n",
      "  8 12 16 25 27 39 63 45\n",
      "  8 12 16 25 27 39 45 63\n"
     ]
    }
   ],
   "source": [
    "def showdata(data_list):\n",
    "    for i in range(len(data_list)):\n",
    "        print('%3d' %data_list[i],end='')\n",
    "    print()\n",
    "\n",
    "data=[16,25,39,63,27,12,8,45]\n",
    "print('選擇排序法:原始資料為：')\n",
    "showdata(data)\n",
    "\n",
    "n = len(data)\n",
    "\n",
    "for i in range(n-1):\n",
    "    minIdx = i\n",
    "    for  j in range(i+1,n):\n",
    "        if data[j] < data[minIdx]:\n",
    "            minIdx = j\n",
    "    data[i],data[minIdx] = data[minIdx],data[i]    \n",
    "    showdata(data)\n"
   ]
  },
  {
   "cell_type": "code",
   "execution_count": 10,
   "id": "f2bab94e",
   "metadata": {},
   "outputs": [
    {
     "name": "stdout",
     "output_type": "stream",
     "text": [
      "選擇排序法:原始資料為：[  Amy(15,4.2)  Bill(16,3.8) Chris(13,4.0) David(19,4.8)    Ed(17,2.6) ]\n",
      "第 1 次掃描後的結果是：[Chris(13,4.0)  Bill(16,3.8)   Amy(15,4.2) David(19,4.8)    Ed(17,2.6) ]\n",
      "第 2 次掃描後的結果是：[Chris(13,4.0)   Amy(15,4.2)  Bill(16,3.8) David(19,4.8)    Ed(17,2.6) ]\n",
      "第 3 次掃描後的結果是：[Chris(13,4.0)   Amy(15,4.2)  Bill(16,3.8) David(19,4.8)    Ed(17,2.6) ]\n",
      "第 4 次掃描後的結果是：[Chris(13,4.0)   Amy(15,4.2)  Bill(16,3.8)    Ed(17,2.6) David(19,4.8) ]\n",
      "選擇排序之後的資料為： [Chris(13,4.0)   Amy(15,4.2)  Bill(16,3.8)    Ed(17,2.6) David(19,4.8) ]\n"
     ]
    }
   ],
   "source": [
    "def showdata(data_list):\n",
    "    print('[', end='')\n",
    "    for i in range(len(data_list)):\n",
    "        print(data_list[i],end=' ')\n",
    "    print(']')\n",
    "    \n",
    "class Student:\n",
    "    def __init__(self, name, age, gpa):\n",
    "        self.name = name\n",
    "        self.age = age\n",
    "        self.gpa = gpa\n",
    "    def __lt__(self, student2):\n",
    "        if self.age<student2.age:\n",
    "            return True\n",
    "        else:\n",
    "            return False\n",
    "    def __str__(self):\n",
    "        return '%5s(%d,%.1f)'%(self.name,self.age,self.gpa)\n",
    "\n",
    "data=[Student('Amy', 15, 4.2),\n",
    "      Student('Bill', 16, 3.8),\n",
    "      Student('Chris', 13, 4.0),\n",
    "      Student('David', 19, 4.8),\n",
    "      Student('Ed', 17, 2.6)]\n",
    "print('選擇排序法:原始資料為：', end ='')\n",
    "showdata(data)\n",
    "\n",
    "n = len(data)\n",
    "\n",
    "for i in range(n-1):\n",
    "    minIdx = i\n",
    "    for j in range(i+1, n):\n",
    "        if(data[j]<data[minIdx]):\n",
    "            minIdx = j\n",
    "    data[i], data[minIdx] = data[minIdx], data[i]\n",
    "    print('第 %d 次掃描後的結果是：' %(i+1), end ='')\n",
    "    showdata(data)\n",
    "\t\n",
    "print('選擇排序之後的資料為：', end =' ')\n",
    "showdata(data)\n"
   ]
  },
  {
   "cell_type": "code",
   "execution_count": 11,
   "id": "3bd27693",
   "metadata": {},
   "outputs": [
    {
     "name": "stdout",
     "output_type": "stream",
     "text": [
      "插入排序法：原始資料為：\n",
      " 16 25 39 63 27 12  8 45\n",
      " 16 25 39 63 27 12  8 45\n",
      " 16 25 39 63 27 12  8 45\n",
      " 16 25 39 63 27 12  8 45\n",
      " 16 25 27 39 63 12  8 45\n",
      " 12 16 25 27 39 63  8 45\n",
      "  8 12 16 25 27 39 63 45\n",
      "  8 12 16 25 27 39 45 63\n"
     ]
    }
   ],
   "source": [
    "def showdata(data_list):\n",
    "    for i in range(len(data_list)):\n",
    "        print('%3d' %data_list[i],end='')\n",
    "    print()\n",
    "\n",
    "data=[16,25,39,63,27,12,8,45]\n",
    "print('插入排序法：原始資料為：')\n",
    "showdata(data)\n",
    "\n",
    "n = len(data)\n",
    "\n",
    "for i in range(1,n):\n",
    "    tmp = data[i]\n",
    "    for j in range(i):\n",
    "        if data[j] > tmp:\n",
    "            data.insert(j,tmp)\n",
    "            del data[i+1]\n",
    "            break\n",
    "    showdata(data)\n"
   ]
  },
  {
   "cell_type": "code",
   "execution_count": 12,
   "id": "d0eea1a8",
   "metadata": {},
   "outputs": [
    {
     "name": "stdout",
     "output_type": "stream",
     "text": [
      "插入排序法,原始資料為：[  Amy(15,4.2)  Bill(16,3.8) Chris(13,4.0) David(19,4.8)    Ed(17,2.6) ]\n",
      "[  Amy(15,4.2)  Bill(16,3.8) Chris(13,4.0) David(19,4.8)    Ed(17,2.6) ]\n",
      "[  Amy(15,4.2) Chris(13,4.0)  Bill(16,3.8) David(19,4.8)    Ed(17,2.6) ]\n",
      "[David(19,4.8)   Amy(15,4.2) Chris(13,4.0)  Bill(16,3.8)    Ed(17,2.6) ]\n",
      "[David(19,4.8)   Amy(15,4.2) Chris(13,4.0)  Bill(16,3.8)    Ed(17,2.6) ]\n"
     ]
    }
   ],
   "source": [
    "def showdata(data_list):\n",
    "    print('[', end='')\n",
    "    for i in range(len(data_list)):\n",
    "        print(data_list[i],end=' ')\n",
    "    print(']')\n",
    "    \n",
    "class Student:\n",
    "    def __init__(self, name, age, gpa):\n",
    "        self.name = name\n",
    "        self.age = age\n",
    "        self.gpa = gpa\n",
    "    def __lt__(self, student2):\n",
    "        if self.gpa<student2.gpa:\n",
    "            return True\n",
    "        else:\n",
    "            return False\n",
    "    def __str__(self):\n",
    "        return '%5s(%d,%.1f)'%(self.name,self.age,self.gpa)\n",
    "\n",
    "data=[Student('Amy', 15, 4.2),\n",
    "      Student('Bill', 16, 3.8),\n",
    "      Student('Chris', 13, 4.0),\n",
    "      Student('David', 19, 4.8),\n",
    "      Student('Ed', 17, 2.6)]\n",
    "print('插入排序法,原始資料為：', end='')\n",
    "showdata(data)\n",
    "n = len(data)\n",
    "\n",
    "for i in range(1,n):\n",
    "    tmp = data[i]\n",
    "    for j in range(i):\n",
    "        if data[j] < tmp:\n",
    "            data.insert(j,tmp)\n",
    "            del data[i+1]\n",
    "            break\n",
    "    showdata(data)"
   ]
  },
  {
   "cell_type": "code",
   "execution_count": 13,
   "id": "d641e382",
   "metadata": {},
   "outputs": [
    {
     "name": "stdout",
     "output_type": "stream",
     "text": [
      "資料內容：\n",
      " 1[ 25]   2[ 23]   3[ 49]   4[ 68]   5[ 11]  \n",
      " 6[ 58]   7[ 22]   8[ 47]   9[ 27]  10[ 66]  \n",
      "11[ 38]  12[ 42]  13[ 40]  14[ 59]  15[ 80]  \n",
      "16[ 62]  17[ 72]  18[ 17]  19[ 37]  20[ 78]  \n",
      "21[ 64]  22[ 85]  23[  9]  24[ 30]  25[ 74]  \n",
      "26[ 46]  27[ 90]  28[ 43]  29[ 34]  30[ 87]  \n",
      "31[ 31]  32[ 70]  33[ 73]  34[ 57]  35[ 94]  \n",
      "36[ 98]  37[ 99]  38[ 44]  39[ 86]  40[  1]  \n",
      "41[ 60]  42[ 54]  43[ 77]  44[ 61]  45[ 32]  \n",
      "46[ 52]  47[ 65]  48[ 69]  49[ 71]  50[ 28]  \n"
     ]
    },
    {
     "ename": "KeyboardInterrupt",
     "evalue": "Interrupted by user",
     "output_type": "error",
     "traceback": [
      "\u001b[1;31m---------------------------------------------------------------------------\u001b[0m",
      "\u001b[1;31mKeyboardInterrupt\u001b[0m                         Traceback (most recent call last)",
      "Cell \u001b[1;32mIn[13], line 25\u001b[0m\n\u001b[0;32m     22\u001b[0m showData(data)\n\u001b[0;32m     24\u001b[0m \u001b[38;5;28;01mwhile\u001b[39;00m \u001b[38;5;28;01mTrue\u001b[39;00m:\n\u001b[1;32m---> 25\u001b[0m     val\u001b[38;5;241m=\u001b[39m\u001b[38;5;28mint\u001b[39m(\u001b[38;5;28;43minput\u001b[39;49m\u001b[43m(\u001b[49m\u001b[38;5;124;43m'\u001b[39;49m\u001b[38;5;124;43m請輸入搜尋鍵值(1-100)，輸入-1離開：\u001b[39;49m\u001b[38;5;124;43m'\u001b[39;49m\u001b[43m)\u001b[49m)\n\u001b[0;32m     26\u001b[0m     \u001b[38;5;28;01mif\u001b[39;00m val \u001b[38;5;241m==\u001b[39m \u001b[38;5;241m-\u001b[39m\u001b[38;5;241m1\u001b[39m:\n\u001b[0;32m     27\u001b[0m         \u001b[38;5;28;01mbreak\u001b[39;00m\n",
      "File \u001b[1;32m~\\anaconda3\\lib\\site-packages\\ipykernel\\kernelbase.py:1175\u001b[0m, in \u001b[0;36mKernel.raw_input\u001b[1;34m(self, prompt)\u001b[0m\n\u001b[0;32m   1171\u001b[0m \u001b[38;5;28;01mif\u001b[39;00m \u001b[38;5;129;01mnot\u001b[39;00m \u001b[38;5;28mself\u001b[39m\u001b[38;5;241m.\u001b[39m_allow_stdin:\n\u001b[0;32m   1172\u001b[0m     \u001b[38;5;28;01mraise\u001b[39;00m StdinNotImplementedError(\n\u001b[0;32m   1173\u001b[0m         \u001b[38;5;124m\"\u001b[39m\u001b[38;5;124mraw_input was called, but this frontend does not support input requests.\u001b[39m\u001b[38;5;124m\"\u001b[39m\n\u001b[0;32m   1174\u001b[0m     )\n\u001b[1;32m-> 1175\u001b[0m \u001b[38;5;28;01mreturn\u001b[39;00m \u001b[38;5;28;43mself\u001b[39;49m\u001b[38;5;241;43m.\u001b[39;49m\u001b[43m_input_request\u001b[49m\u001b[43m(\u001b[49m\n\u001b[0;32m   1176\u001b[0m \u001b[43m    \u001b[49m\u001b[38;5;28;43mstr\u001b[39;49m\u001b[43m(\u001b[49m\u001b[43mprompt\u001b[49m\u001b[43m)\u001b[49m\u001b[43m,\u001b[49m\n\u001b[0;32m   1177\u001b[0m \u001b[43m    \u001b[49m\u001b[38;5;28;43mself\u001b[39;49m\u001b[38;5;241;43m.\u001b[39;49m\u001b[43m_parent_ident\u001b[49m\u001b[43m[\u001b[49m\u001b[38;5;124;43m\"\u001b[39;49m\u001b[38;5;124;43mshell\u001b[39;49m\u001b[38;5;124;43m\"\u001b[39;49m\u001b[43m]\u001b[49m\u001b[43m,\u001b[49m\n\u001b[0;32m   1178\u001b[0m \u001b[43m    \u001b[49m\u001b[38;5;28;43mself\u001b[39;49m\u001b[38;5;241;43m.\u001b[39;49m\u001b[43mget_parent\u001b[49m\u001b[43m(\u001b[49m\u001b[38;5;124;43m\"\u001b[39;49m\u001b[38;5;124;43mshell\u001b[39;49m\u001b[38;5;124;43m\"\u001b[39;49m\u001b[43m)\u001b[49m\u001b[43m,\u001b[49m\n\u001b[0;32m   1179\u001b[0m \u001b[43m    \u001b[49m\u001b[43mpassword\u001b[49m\u001b[38;5;241;43m=\u001b[39;49m\u001b[38;5;28;43;01mFalse\u001b[39;49;00m\u001b[43m,\u001b[49m\n\u001b[0;32m   1180\u001b[0m \u001b[43m\u001b[49m\u001b[43m)\u001b[49m\n",
      "File \u001b[1;32m~\\anaconda3\\lib\\site-packages\\ipykernel\\kernelbase.py:1217\u001b[0m, in \u001b[0;36mKernel._input_request\u001b[1;34m(self, prompt, ident, parent, password)\u001b[0m\n\u001b[0;32m   1214\u001b[0m             \u001b[38;5;28;01mbreak\u001b[39;00m\n\u001b[0;32m   1215\u001b[0m \u001b[38;5;28;01mexcept\u001b[39;00m \u001b[38;5;167;01mKeyboardInterrupt\u001b[39;00m:\n\u001b[0;32m   1216\u001b[0m     \u001b[38;5;66;03m# re-raise KeyboardInterrupt, to truncate traceback\u001b[39;00m\n\u001b[1;32m-> 1217\u001b[0m     \u001b[38;5;28;01mraise\u001b[39;00m \u001b[38;5;167;01mKeyboardInterrupt\u001b[39;00m(\u001b[38;5;124m\"\u001b[39m\u001b[38;5;124mInterrupted by user\u001b[39m\u001b[38;5;124m\"\u001b[39m) \u001b[38;5;28;01mfrom\u001b[39;00m \u001b[38;5;28mNone\u001b[39m\n\u001b[0;32m   1218\u001b[0m \u001b[38;5;28;01mexcept\u001b[39;00m \u001b[38;5;167;01mException\u001b[39;00m:\n\u001b[0;32m   1219\u001b[0m     \u001b[38;5;28mself\u001b[39m\u001b[38;5;241m.\u001b[39mlog\u001b[38;5;241m.\u001b[39mwarning(\u001b[38;5;124m\"\u001b[39m\u001b[38;5;124mInvalid Message:\u001b[39m\u001b[38;5;124m\"\u001b[39m, exc_info\u001b[38;5;241m=\u001b[39m\u001b[38;5;28;01mTrue\u001b[39;00m)\n",
      "\u001b[1;31mKeyboardInterrupt\u001b[0m: Interrupted by user"
     ]
    }
   ],
   "source": [
    "'''\n",
    "Created on 2022年8月12日\n",
    "\n",
    "@author: xvpow\n",
    "'''\n",
    "import random\n",
    "\n",
    "def showData(data_list):\n",
    "    for i in range(len(data)//5):\n",
    "        for j in range(5):\n",
    "            print('%2d[%3d]  ' %(i*5+j+1,data[i*5+j]),end='')\n",
    "        print()\n",
    "\n",
    "val=0\n",
    "data=[]\n",
    "while(len(data)<50):\n",
    "    randNum = random.randint(1,100)\n",
    "    if(randNum not in data):\n",
    "        data.append(randNum)\n",
    "                \n",
    "print('資料內容：')\n",
    "showData(data)\n",
    "\n",
    "while True:\n",
    "    val=int(input('請輸入搜尋鍵值(1-100)，輸入-1離開：'))\n",
    "    if val == -1:\n",
    "        break\n",
    "    for i in range(50):\n",
    "        if data[i]==val:\n",
    "            print('在第%3d個位置找到鍵值[%3d]' %(i+1,data[i]))\n",
    "            break\n",
    "    else:\n",
    "        print('######[%3d]不存在######' %val)"
   ]
  },
  {
   "cell_type": "code",
   "execution_count": null,
   "id": "35c60c00",
   "metadata": {},
   "outputs": [],
   "source": [
    "cars=[\"Audi\", \"Honda\", \"Mazda\", \"Ford\", \"Benz\", \"Lexus\", \"BMW\"]\n",
    "while True:\n",
    "    car = input(\"請輸入車名 Quit離開:\")\n",
    "    if car == 'Quit':\n",
    "        break\n",
    "    for i in range(len(cars)):\n",
    "        if cars[i] == car:\n",
    "            print(f\"找到了在{i}位置\")\n",
    "            break\n",
    "    else:\n",
    "        print(\"找不到!\")"
   ]
  },
  {
   "cell_type": "code",
   "execution_count": 1,
   "id": "d6e11a5f",
   "metadata": {},
   "outputs": [
    {
     "name": "stdout",
     "output_type": "stream",
     "text": [
      "資料內容：\n",
      " 1[  1]   2[  2]   3[  3]   4[  6]   5[  8]  \n",
      " 6[ 10]   7[ 11]   8[ 12]   9[ 14]  10[ 18]  \n",
      "11[ 20]  12[ 21]  13[ 24]  14[ 25]  15[ 28]  \n",
      "16[ 29]  17[ 32]  18[ 34]  19[ 38]  20[ 40]  \n",
      "21[ 41]  22[ 42]  23[ 43]  24[ 46]  25[ 47]  \n",
      "26[ 48]  27[ 49]  28[ 51]  29[ 52]  30[ 54]  \n",
      "31[ 57]  32[ 58]  33[ 59]  34[ 63]  35[ 67]  \n",
      "36[ 74]  37[ 76]  38[ 79]  39[ 80]  40[ 81]  \n",
      "41[ 82]  42[ 83]  43[ 84]  44[ 85]  45[ 87]  \n",
      "46[ 88]  47[ 93]  48[ 96]  49[ 99]  50[100]  \n",
      "輸入1~100 輸入-1結束:1\n",
      "1的位置1\n",
      "輸入1~100 輸入-1結束:2\n",
      "2的位置2\n",
      "輸入1~100 輸入-1結束:-1\n"
     ]
    }
   ],
   "source": [
    "import random\n",
    "\n",
    "def showData(data_list):\n",
    "    for i in range(len(data)//5):\n",
    "        for j in range(5):\n",
    "            print('%2d[%3d]  ' %(i*5+j+1,data[i*5+j]),end='')\n",
    "        print()\n",
    "\n",
    "def bin_search(data,val):\n",
    "    low,high = 0,len(data)-1\n",
    "    mid = -1\n",
    "    while not low > high:\n",
    "        mid = (low + high) // 2\n",
    "        if val < data[mid]:\n",
    "           high = mid - 1\n",
    "        elif val > data[mid]:\n",
    "           low = mid + 1\n",
    "        else:\n",
    "            return mid\n",
    "    return -1    \n",
    "data=[]\n",
    "while(len(data)<50):\n",
    "    randNum = random.randint(1,100)\n",
    "    if(randNum not in data):\n",
    "        data.append(randNum)\n",
    "\n",
    "data.sort()\n",
    "print('資料內容：')\n",
    "showData(data)        \n",
    "\n",
    "while True:\n",
    "     val = int(input(\"輸入1~100 輸入-1結束:\"))\n",
    "     if val == -1:\n",
    "         break\n",
    "     pos = bin_search(data,val)\n",
    "\n",
    "     if pos == -1:\n",
    "         print(\"不存在\")\n",
    "     else:\n",
    "         print(f\"{val}的位置{pos+1}\")\n"
   ]
  },
  {
   "cell_type": "code",
   "execution_count": 2,
   "id": "1840fec6",
   "metadata": {},
   "outputs": [
    {
     "name": "stdout",
     "output_type": "stream",
     "text": [
      "8\n",
      "B C\n",
      "- D\n",
      "- E\n",
      "\n",
      "\n",
      "\n",
      "\n"
     ]
    }
   ],
   "source": [
    "btree = ['-']*2**3\n",
    "\n",
    "print(len(btree))\n",
    "btree[1]='A'\n",
    "btree[2]='B'\n",
    "btree[3]='C'\n",
    "btree[5]='D'\n",
    "btree[7]='E'\n",
    "\n",
    "for i in range(1,len(btree)):\n",
    "     if 2 * i + 1 < len(btree):\n",
    "         print(btree[2*i],btree[2*i + 1])\n",
    "     else:\n",
    "         print()\n"
   ]
  },
  {
   "cell_type": "code",
   "execution_count": null,
   "id": "b17cd54e",
   "metadata": {},
   "outputs": [],
   "source": []
  }
 ],
 "metadata": {
  "kernelspec": {
   "display_name": "Python 3 (ipykernel)",
   "language": "python",
   "name": "python3"
  },
  "language_info": {
   "codemirror_mode": {
    "name": "ipython",
    "version": 3
   },
   "file_extension": ".py",
   "mimetype": "text/x-python",
   "name": "python",
   "nbconvert_exporter": "python",
   "pygments_lexer": "ipython3",
   "version": "3.8.16"
  }
 },
 "nbformat": 4,
 "nbformat_minor": 5
}
