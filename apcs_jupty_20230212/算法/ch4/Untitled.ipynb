{
 "cells": [
  {
   "cell_type": "code",
   "execution_count": 1,
   "id": "dcdb76ae",
   "metadata": {},
   "outputs": [
    {
     "name": "stdout",
     "output_type": "stream",
     "text": [
      "('A', 'B', 'C', 'D', 'E')\n",
      "('A', 'B', 'C', 'E', 'D')\n",
      "('A', 'B', 'D', 'C', 'E')\n",
      "('A', 'B', 'D', 'E', 'C')\n",
      "('A', 'B', 'E', 'C', 'D')\n",
      "('A', 'B', 'E', 'D', 'C')\n",
      "('A', 'C', 'B', 'D', 'E')\n",
      "('A', 'C', 'B', 'E', 'D')\n",
      "('A', 'C', 'D', 'B', 'E')\n",
      "('A', 'C', 'D', 'E', 'B')\n",
      "('A', 'C', 'E', 'B', 'D')\n",
      "('A', 'C', 'E', 'D', 'B')\n",
      "('A', 'D', 'B', 'C', 'E')\n",
      "('A', 'D', 'B', 'E', 'C')\n",
      "('A', 'D', 'C', 'B', 'E')\n",
      "('A', 'D', 'C', 'E', 'B')\n",
      "('A', 'D', 'E', 'B', 'C')\n",
      "('A', 'D', 'E', 'C', 'B')\n",
      "('A', 'E', 'B', 'C', 'D')\n",
      "('A', 'E', 'B', 'D', 'C')\n",
      "('A', 'E', 'C', 'B', 'D')\n",
      "('A', 'E', 'C', 'D', 'B')\n",
      "('A', 'E', 'D', 'B', 'C')\n",
      "('A', 'E', 'D', 'C', 'B')\n",
      "('B', 'A', 'C', 'D', 'E')\n",
      "('B', 'A', 'C', 'E', 'D')\n",
      "('B', 'A', 'D', 'C', 'E')\n",
      "('B', 'A', 'D', 'E', 'C')\n",
      "('B', 'A', 'E', 'C', 'D')\n",
      "('B', 'A', 'E', 'D', 'C')\n",
      "('B', 'C', 'A', 'D', 'E')\n",
      "('B', 'C', 'A', 'E', 'D')\n",
      "('B', 'C', 'D', 'A', 'E')\n",
      "('B', 'C', 'D', 'E', 'A')\n",
      "('B', 'C', 'E', 'A', 'D')\n",
      "('B', 'C', 'E', 'D', 'A')\n",
      "('B', 'D', 'A', 'C', 'E')\n",
      "('B', 'D', 'A', 'E', 'C')\n",
      "('B', 'D', 'C', 'A', 'E')\n",
      "('B', 'D', 'C', 'E', 'A')\n",
      "('B', 'D', 'E', 'A', 'C')\n",
      "('B', 'D', 'E', 'C', 'A')\n",
      "('B', 'E', 'A', 'C', 'D')\n",
      "('B', 'E', 'A', 'D', 'C')\n",
      "('B', 'E', 'C', 'A', 'D')\n",
      "('B', 'E', 'C', 'D', 'A')\n",
      "('B', 'E', 'D', 'A', 'C')\n",
      "('B', 'E', 'D', 'C', 'A')\n",
      "('C', 'A', 'B', 'D', 'E')\n",
      "('C', 'A', 'B', 'E', 'D')\n",
      "('C', 'A', 'D', 'B', 'E')\n",
      "('C', 'A', 'D', 'E', 'B')\n",
      "('C', 'A', 'E', 'B', 'D')\n",
      "('C', 'A', 'E', 'D', 'B')\n",
      "('C', 'B', 'A', 'D', 'E')\n",
      "('C', 'B', 'A', 'E', 'D')\n",
      "('C', 'B', 'D', 'A', 'E')\n",
      "('C', 'B', 'D', 'E', 'A')\n",
      "('C', 'B', 'E', 'A', 'D')\n",
      "('C', 'B', 'E', 'D', 'A')\n",
      "('C', 'D', 'A', 'B', 'E')\n",
      "('C', 'D', 'A', 'E', 'B')\n",
      "('C', 'D', 'B', 'A', 'E')\n",
      "('C', 'D', 'B', 'E', 'A')\n",
      "('C', 'D', 'E', 'A', 'B')\n",
      "('C', 'D', 'E', 'B', 'A')\n",
      "('C', 'E', 'A', 'B', 'D')\n",
      "('C', 'E', 'A', 'D', 'B')\n",
      "('C', 'E', 'B', 'A', 'D')\n",
      "('C', 'E', 'B', 'D', 'A')\n",
      "('C', 'E', 'D', 'A', 'B')\n",
      "('C', 'E', 'D', 'B', 'A')\n",
      "('D', 'A', 'B', 'C', 'E')\n",
      "('D', 'A', 'B', 'E', 'C')\n",
      "('D', 'A', 'C', 'B', 'E')\n",
      "('D', 'A', 'C', 'E', 'B')\n",
      "('D', 'A', 'E', 'B', 'C')\n",
      "('D', 'A', 'E', 'C', 'B')\n",
      "('D', 'B', 'A', 'C', 'E')\n",
      "('D', 'B', 'A', 'E', 'C')\n",
      "('D', 'B', 'C', 'A', 'E')\n",
      "('D', 'B', 'C', 'E', 'A')\n",
      "('D', 'B', 'E', 'A', 'C')\n",
      "('D', 'B', 'E', 'C', 'A')\n",
      "('D', 'C', 'A', 'B', 'E')\n",
      "('D', 'C', 'A', 'E', 'B')\n",
      "('D', 'C', 'B', 'A', 'E')\n",
      "('D', 'C', 'B', 'E', 'A')\n",
      "('D', 'C', 'E', 'A', 'B')\n",
      "('D', 'C', 'E', 'B', 'A')\n",
      "('D', 'E', 'A', 'B', 'C')\n",
      "('D', 'E', 'A', 'C', 'B')\n",
      "('D', 'E', 'B', 'A', 'C')\n",
      "('D', 'E', 'B', 'C', 'A')\n",
      "('D', 'E', 'C', 'A', 'B')\n",
      "('D', 'E', 'C', 'B', 'A')\n",
      "('E', 'A', 'B', 'C', 'D')\n",
      "('E', 'A', 'B', 'D', 'C')\n",
      "('E', 'A', 'C', 'B', 'D')\n",
      "('E', 'A', 'C', 'D', 'B')\n",
      "('E', 'A', 'D', 'B', 'C')\n",
      "('E', 'A', 'D', 'C', 'B')\n",
      "('E', 'B', 'A', 'C', 'D')\n",
      "('E', 'B', 'A', 'D', 'C')\n",
      "('E', 'B', 'C', 'A', 'D')\n",
      "('E', 'B', 'C', 'D', 'A')\n",
      "('E', 'B', 'D', 'A', 'C')\n",
      "('E', 'B', 'D', 'C', 'A')\n",
      "('E', 'C', 'A', 'B', 'D')\n",
      "('E', 'C', 'A', 'D', 'B')\n",
      "('E', 'C', 'B', 'A', 'D')\n",
      "('E', 'C', 'B', 'D', 'A')\n",
      "('E', 'C', 'D', 'A', 'B')\n",
      "('E', 'C', 'D', 'B', 'A')\n",
      "('E', 'D', 'A', 'B', 'C')\n",
      "('E', 'D', 'A', 'C', 'B')\n",
      "('E', 'D', 'B', 'A', 'C')\n",
      "('E', 'D', 'B', 'C', 'A')\n",
      "('E', 'D', 'C', 'A', 'B')\n",
      "('E', 'D', 'C', 'B', 'A')\n"
     ]
    }
   ],
   "source": [
    "c = 65\n",
    "for i in range(5):\n",
    "    for j in range(5):\n",
    "        if j == i:\n",
    "            continue\n",
    "        for k in range(5):\n",
    "            if k == i or k == j:\n",
    "                continue\n",
    "            for l in range(5):\n",
    "                if l == k or l == j or l == i:\n",
    "                    continue\n",
    "                for m in range(5):\n",
    "                    if m == l or m == k or m == j or m==i:\n",
    "                        continue\n",
    "                    print(f\"{chr(c+i),chr(c+j),chr(c+k),chr(c+l),chr(c+m)}\")"
   ]
  },
  {
   "cell_type": "code",
   "execution_count": 2,
   "id": "96a34f6f",
   "metadata": {},
   "outputs": [
    {
     "name": "stdout",
     "output_type": "stream",
     "text": [
      "1,2,3,4\n",
      "1,2,3,5\n",
      "1,2,3,6\n",
      "1,2,4,5\n",
      "1,2,4,6\n",
      "1,2,5,6\n",
      "1,3,4,5\n",
      "1,3,4,6\n",
      "1,3,5,6\n",
      "1,4,5,6\n",
      "2,3,4,5\n",
      "2,3,4,6\n",
      "2,3,5,6\n",
      "2,4,5,6\n",
      "3,4,5,6\n"
     ]
    }
   ],
   "source": [
    "count = 0\n",
    "\n",
    "for i in range(1,7):\n",
    "    for j in range(1,7):\n",
    "        for k in range(1,7):\n",
    "            for l in range(1,7):\n",
    "                if i < j and j < k and k < l:\n",
    "                    count+=1\n",
    "                    print(f\"{i},{j},{k},{l}\")"
   ]
  },
  {
   "cell_type": "code",
   "execution_count": 3,
   "id": "daee6052",
   "metadata": {},
   "outputs": [
    {
     "name": "stdout",
     "output_type": "stream",
     "text": [
      "1 : 1,2,3,4\n",
      "2 : 1,2,3,5\n",
      "3 : 1,2,3,6\n",
      "4 : 1,2,4,5\n",
      "5 : 1,2,4,6\n",
      "6 : 1,2,5,6\n",
      "7 : 1,3,4,5\n",
      "8 : 1,3,4,6\n",
      "9 : 1,3,5,6\n",
      "10 : 1,4,5,6\n",
      "11 : 2,3,4,5\n",
      "12 : 2,3,4,6\n",
      "13 : 2,3,5,6\n",
      "14 : 2,4,5,6\n",
      "15 : 3,4,5,6\n"
     ]
    }
   ],
   "source": [
    "count = 0\n",
    "\n",
    "for i in range(1,7):\n",
    "    for j in range(1,7):\n",
    "         if j <=  i:\n",
    "             continue\n",
    "         for k in range(1,7):\n",
    "            if k <= j:\n",
    "              continue\n",
    "            for l in range(1,7):\n",
    "                if l <= k:\n",
    "                    continue\n",
    "                count+=1\n",
    "                print(f\"{count} : {i},{j},{k},{l}\")\n",
    "                \n",
    "   \n"
   ]
  },
  {
   "cell_type": "code",
   "execution_count": 4,
   "id": "d6e9bd03",
   "metadata": {},
   "outputs": [
    {
     "name": "stdout",
     "output_type": "stream",
     "text": [
      "不是質數\n"
     ]
    }
   ],
   "source": [
    "def is_prime(number):\n",
    "    for i in range(2,number):\n",
    "        if number % i == 0:\n",
    "            return False\n",
    "    return True\n",
    "\n",
    "n = 9\n",
    "\n",
    "if is_prime(n):\n",
    "    print(\"是質數\")\n",
    "else:\n",
    "    print(\"不是質數\")\n"
   ]
  },
  {
   "cell_type": "code",
   "execution_count": 5,
   "id": "1c256690",
   "metadata": {},
   "outputs": [
    {
     "name": "stdout",
     "output_type": "stream",
     "text": [
      "請輸入整數11\n",
      "是質數\n"
     ]
    }
   ],
   "source": [
    "import math\n",
    "def is_prime(num):\n",
    "    # 要包含int(math.sqrt(num)) 算出的數字\n",
    "    for i in range(2,int(math.sqrt(num)) + 1):\n",
    "        if num  % i == 0:\n",
    "            return False\n",
    "        else:\n",
    "            return True\n",
    "n = int(input(\"請輸入整數\"))\n",
    "if is_prime(n):\n",
    "    print(\"是質數\")\n",
    "else:\n",
    "    print(\"不是質數\")\n"
   ]
  },
  {
   "cell_type": "code",
   "execution_count": 6,
   "id": "86a1806d",
   "metadata": {},
   "outputs": [
    {
     "name": "stdout",
     "output_type": "stream",
     "text": [
      "小於等於10的所有質數: [2, 3, 5, 7]\n"
     ]
    }
   ],
   "source": [
    "def primeList(number):\n",
    "    primes = []\n",
    "    for n in range(2,number+1):\n",
    "        for i in primes:        \n",
    "            if n % i == 0:\n",
    "                break\n",
    "        else:\n",
    "            primes.append(n)\n",
    "    return primes\n",
    "\n",
    "n = 10\n",
    "pList = primeList(n)\n",
    "print(f\"小於等於{n}的所有質數:\",pList)"
   ]
  },
  {
   "cell_type": "code",
   "execution_count": 7,
   "id": "92e05be6",
   "metadata": {},
   "outputs": [
    {
     "name": "stdout",
     "output_type": "stream",
     "text": [
      "請輸入整數-1離開72\n",
      "72=2*2*2*3*3\n",
      "請輸入整數-1離開36\n",
      "36=2*2*3*3\n",
      "請輸入整數-1離開-1\n"
     ]
    }
   ],
   "source": [
    "while  True:\n",
    "    n = int(input(\"請輸入整數-1離開\"))\n",
    "    if n == -1:\n",
    "        break\n",
    "    print(f\"{n}=\",end=\"\")\n",
    "    while n > 1:\n",
    "        for i in range(2,n+1):\n",
    "            if n % i == 0:\n",
    "                n = n // i\n",
    "                if n == 1:\n",
    "                    print(f\"{i}\\n\",end=\"\")\n",
    "                else:\n",
    "                    print(f\"{i}*\",end=\"\")\n",
    "                break    \n"
   ]
  },
  {
   "cell_type": "code",
   "execution_count": 8,
   "id": "b0ed164c",
   "metadata": {},
   "outputs": [
    {
     "name": "stdout",
     "output_type": "stream",
     "text": [
      "請輸入整數-1離開72\n",
      "72=2*2*2*3*3\n",
      "請輸入整數-1離開36\n",
      "36=2*2*3*3\n",
      "請輸入整數-1離開-1\n"
     ]
    }
   ],
   "source": [
    "from math import sqrt\n",
    "while  True:\n",
    "    n = int(input(\"請輸入整數-1離開\"))\n",
    "    if n == -1:\n",
    "        break\n",
    "    print(f\"{n}=\",end=\"\")\n",
    "    while True:\n",
    "        for i in range(2,int(sqrt(n)) + 1):\n",
    "            if n % i == 0:\n",
    "                n = n // i\n",
    "                if n == 1:\n",
    "                    print(f\"{i}\\n\",end=\"\")\n",
    "                else:\n",
    "                    print(f\"{i}*\",end=\"\")\n",
    "                break\n",
    "        else:\n",
    "            print(n)\n",
    "            break"
   ]
  },
  {
   "cell_type": "code",
   "execution_count": 10,
   "id": "0661463a",
   "metadata": {},
   "outputs": [
    {
     "name": "stdout",
     "output_type": "stream",
     "text": [
      "5    7    9\n",
      "34    68    12\n",
      "\n",
      "5    9    7\n",
      "34    12    68\n",
      "\n",
      "7    5    9\n",
      "68    34    12\n",
      "\n",
      "7    9    5\n",
      "68    12    34\n",
      "\n",
      "9    5    7\n",
      "12    34    68\n",
      "\n",
      "9    7    5\n",
      "12    68    34\n",
      "\n"
     ]
    }
   ],
   "source": [
    "list_1to9 = [1,2,3,4,5,6,7,8,9]\n",
    "count=0\n",
    "for a in list_1to9:\n",
    "    list_a= list_1to9.copy()\n",
    "    list_a.remove(a)\n",
    "    for b in list_a:\n",
    "     list_b= list_a.copy()\n",
    "     list_b.remove(b)\n",
    "     for c in list_b:\n",
    "        list_c= list_b.copy()\n",
    "        list_c.remove(c)\n",
    "        for d in list_c:\n",
    "         list_d=list_c.copy()\n",
    "         list_d.remove(d) \n",
    "         for e in list_d:\n",
    "          list_e =list_d.copy()\n",
    "          list_e.remove(e)\n",
    "          for f in list_e:\n",
    "            list_f = list_e.copy()\n",
    "            list_f.remove(f)\n",
    "            for g in list_f:\n",
    "             list_g = list_f.copy()\n",
    "             list_g.remove(g)\n",
    "             for h in list_g:\n",
    "              list_h = list_g.copy()\n",
    "              list_h.remove(h)\n",
    "              for i in list_h:\n",
    "                  count+=1                 \n",
    "                  if (a/(b*10.+c) + d/(e*10.+f)+g/(h*10.+i)) == 1:\n",
    "                      print(f'{a}    {d}    {g}')\n",
    "                      print(f'{b}{c}    {e}{f}    {h}{i}')\n",
    "                      print()"
   ]
  },
  {
   "cell_type": "code",
   "execution_count": 11,
   "id": "6723de33",
   "metadata": {},
   "outputs": [
    {
     "name": "stdout",
     "output_type": "stream",
     "text": [
      "5    7   9\n",
      "34 68 12\n",
      "\n",
      "5    9   7\n",
      "34 12 68\n",
      "\n",
      "7    5   9\n",
      "68 34 12\n",
      "\n",
      "7    9   5\n",
      "68 12 34\n",
      "\n",
      "9    5   7\n",
      "12 34 68\n",
      "\n",
      "9    7   5\n",
      "12 68 34\n",
      "\n"
     ]
    }
   ],
   "source": [
    "import itertools\n",
    "list_1to9 = [1,2,3,4,5,6,7,8,9]\n",
    "perm_list = list(itertools.permutations(list_1to9))\n",
    "for i in perm_list:\n",
    "  if (i[0]/(i[1]*10.+i[2]) + i[3]/(i[4]*10.+i[5])+i[6]/(i[7]*10.+i[8])) == 1:\n",
    "       print(f'{i[0]}    {i[3]}   {i[6]}')\n",
    "       print(f'{i[1]}{i[2]} {i[4]}{i[5]} {i[7]}{i[8]}')\n",
    "       print()\n",
    "    "
   ]
  },
  {
   "cell_type": "code",
   "execution_count": 9,
   "id": "790e243c",
   "metadata": {},
   "outputs": [
    {
     "name": "stdout",
     "output_type": "stream",
     "text": [
      "log 25以2為底:4.643856\n"
     ]
    }
   ],
   "source": [
    "def myLog(a,b,pre=6):\n",
    "    step = 1\n",
    "    ans = step\n",
    "    while step >= 10 **-pre:\n",
    "        while b ** ans < a:\n",
    "            ans += step\n",
    "            if b ** ans == a:\n",
    "                return ans\n",
    "        ans -= step\n",
    "        step /= 10\n",
    "    return ans         \n",
    "\n",
    "a = 25\n",
    "b = 2\n",
    "\n",
    "print(f\"log {a}以{b}為底:{myLog(a,b):.6f}\")\n"
   ]
  },
  {
   "cell_type": "code",
   "execution_count": 12,
   "id": "e4d974e0",
   "metadata": {},
   "outputs": [
    {
     "name": "stdout",
     "output_type": "stream",
     "text": [
      "下限1\n",
      "上限30\n",
      "(3,4,5)\n",
      "(5,12,13)\n",
      "(6,8,10)\n",
      "(7,24,25)\n",
      "(8,15,17)\n",
      "(9,12,15)\n",
      "(10,24,26)\n",
      "(12,16,20)\n",
      "(15,20,25)\n",
      "(18,24,30)\n",
      "(20,21,29)\n"
     ]
    }
   ],
   "source": [
    "minValue = int(input(\"下限\"))\n",
    "maxValue = int(input(\"上限\"))+1\n",
    "for i in range(minValue,maxValue):\n",
    "    for j in range(i,maxValue):\n",
    "        for k in range(j,maxValue):\n",
    "           if i**2 + j**2 == k**2:\n",
    "               print(f\"({i},{j},{k})\")"
   ]
  },
  {
   "cell_type": "code",
   "execution_count": 13,
   "id": "9a92d696",
   "metadata": {},
   "outputs": [
    {
     "name": "stdout",
     "output_type": "stream",
     "text": [
      "[1, 2, 3, 4, 5, 6, 7, 8, 9, 10, 11, 12]\t3\n",
      "[1, 2, 4, 5, 6, 7, 8, 9, 10, 11, 12]\t6\n",
      "[1, 2, 4, 5, 7, 8, 9, 10, 11, 12]\t9\n",
      "[1, 2, 4, 5, 7, 8, 10, 11, 12]\t12\n",
      "[1, 2, 4, 5, 7, 8, 10, 11]\t4\n",
      "[1, 2, 5, 7, 8, 10, 11]\t8\n",
      "[1, 2, 5, 7, 10, 11]\t1\n",
      "[2, 5, 7, 10, 11]\t7\n",
      "[2, 5, 10, 11]\t2\n",
      "[5, 10, 11]\t11\n",
      "[5, 10]\t5\n",
      "10\n"
     ]
    }
   ],
   "source": [
    "def josephus(ls,skip):\n",
    "    idx = skip - 1\n",
    "    while len(ls) > 1:\n",
    "        print(ls,end='\\t')\n",
    "        print(ls.pop(idx))\n",
    "        #算下一次要刪除的idx\n",
    "        idx = (idx + skip - 1) % len(ls)\n",
    "    print(ls[0])\n",
    "\n",
    "n = 12\n",
    "m = 3\n",
    "list1 = [*range(1,n+1)]\n",
    "\n",
    "josephus(list1,m)\n"
   ]
  },
  {
   "cell_type": "code",
   "execution_count": null,
   "id": "096840e5",
   "metadata": {},
   "outputs": [],
   "source": []
  },
  {
   "attachments": {
    "image.png": {
     "image/png": "[encoded data removed]"
    }
   },
   "cell_type": "markdown",
   "id": "da1ea397",
   "metadata": {},
   "source": [
    "![image.png](attachment:image.png)"
   ]
  },
  {
   "attachments": {
    "image.png": {
     "image/png": "[encoded data removed]"
    }
   },
   "cell_type": "markdown",
   "id": "cca421e4",
   "metadata": {},
   "source": [
    "![image.png](attachment:image.png)"
   ]
  },
  {
   "cell_type": "code",
   "execution_count": 14,
   "id": "6ddd8600",
   "metadata": {},
   "outputs": [
    {
     "name": "stdout",
     "output_type": "stream",
     "text": [
      "5! 120\n"
     ]
    }
   ],
   "source": [
    "def fact(n):\n",
    "    result = 1\n",
    "    for i in range(n,0,-1):\n",
    "        result *= i\n",
    "    return result\n",
    "\n",
    "print(\"5!\",fact(5))\n"
   ]
  },
  {
   "cell_type": "code",
   "execution_count": 15,
   "id": "3d7bf365",
   "metadata": {},
   "outputs": [
    {
     "name": "stdout",
     "output_type": "stream",
     "text": [
      "5! 120\n"
     ]
    }
   ],
   "source": [
    "def fact(n):\n",
    "    if n == 1:\n",
    "        return 1\n",
    "    else:\n",
    "        return n * fact(n-1)\n",
    "    \n",
    "    \n",
    "print(\"5!\",fact(5))"
   ]
  },
  {
   "cell_type": "code",
   "execution_count": 16,
   "id": "eeeaf4f8",
   "metadata": {},
   "outputs": [
    {
     "name": "stdout",
     "output_type": "stream",
     "text": [
      "gcd(20,14) gcd(14,6) gcd(6,2) 2\n"
     ]
    }
   ],
   "source": [
    "def gcd(m,n):\n",
    "    while(n!=0):\n",
    "        print(f\"gcd({m},{n})\",end=\" \")\n",
    "        r = m % n\n",
    "        m = n\n",
    "        n = r\n",
    "    return m   \n",
    "ans = gcd(20,14)\n",
    "print(ans)\n"
   ]
  },
  {
   "cell_type": "code",
   "execution_count": 17,
   "id": "bc287011",
   "metadata": {},
   "outputs": [
    {
     "name": "stdout",
     "output_type": "stream",
     "text": [
      "gcd(20,14) gcd(14,6) gcd(6,2) gcd(2,0) 2\n"
     ]
    }
   ],
   "source": [
    "def gcd(m,n):\n",
    "    print(f\"gcd({m},{n})\",end=\" \")\n",
    "    if n == 0:\n",
    "        return m\n",
    "    else:        \n",
    "        return gcd(n,m%n) \n",
    "print(gcd(20,14))\n"
   ]
  },
  {
   "cell_type": "code",
   "execution_count": 18,
   "id": "f548f804",
   "metadata": {},
   "outputs": [
    {
     "name": "stdout",
     "output_type": "stream",
     "text": [
      "[1, 2, 3, 4]\n",
      "[1, 2, 4, 3]\n",
      "[1, 3, 2, 4]\n",
      "[1, 3, 4, 2]\n",
      "[1, 4, 2, 3]\n",
      "[1, 4, 3, 2]\n",
      "[2, 1, 3, 4]\n",
      "[2, 1, 4, 3]\n",
      "[2, 3, 1, 4]\n",
      "[2, 3, 4, 1]\n",
      "[2, 4, 1, 3]\n",
      "[2, 4, 3, 1]\n",
      "[3, 1, 2, 4]\n",
      "[3, 1, 4, 2]\n",
      "[3, 2, 1, 4]\n",
      "[3, 2, 4, 1]\n",
      "[3, 4, 1, 2]\n",
      "[3, 4, 2, 1]\n",
      "[4, 1, 2, 3]\n",
      "[4, 1, 3, 2]\n",
      "[4, 2, 1, 3]\n",
      "[4, 2, 3, 1]\n",
      "[4, 3, 1, 2]\n",
      "[4, 3, 2, 1]\n"
     ]
    }
   ],
   "source": [
    "def permute (s):\n",
    "    out = []\n",
    "    if len(s) == 1:\n",
    "        return [s]\n",
    "    else:\n",
    "        for i in range(len(s)):        \n",
    "            for  perm in permute(s[:i]+s[i+1:]):\n",
    "                  ls = [s[i]]\n",
    "                  ls.extend(perm)\n",
    "                  out.append(ls)\n",
    "    return out\n",
    "myList = permute([1,2,3,4])\n",
    "for l in myList:\n",
    "    print(l)\n"
   ]
  },
  {
   "cell_type": "code",
   "execution_count": null,
   "id": "6da4295c",
   "metadata": {},
   "outputs": [],
   "source": []
  }
 ],
 "metadata": {
  "kernelspec": {
   "display_name": "Python 3 (ipykernel)",
   "language": "python",
   "name": "python3"
  },
  "language_info": {
   "codemirror_mode": {
    "name": "ipython",
    "version": 3
   },
   "file_extension": ".py",
   "mimetype": "text/x-python",
   "name": "python",
   "nbconvert_exporter": "python",
   "pygments_lexer": "ipython3",
   "version": "3.8.16"
  }
 },
 "nbformat": 4,
 "nbformat_minor": 5
}
