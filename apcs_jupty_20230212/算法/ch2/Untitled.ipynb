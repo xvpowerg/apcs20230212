{
 "cells": [
  {
   "cell_type": "code",
   "execution_count": 1,
   "id": "e49c77de",
   "metadata": {},
   "outputs": [
    {
     "name": "stdout",
     "output_type": "stream",
     "text": [
      "*\n",
      "**\n",
      "***\n",
      "1  1  \n",
      "22 22 \n",
      "333333\n",
      "A  A  A  \n",
      "BB BB BB \n",
      "CCCCCCCCC\n",
      "1  2  3  4  \n",
      "11 22 33 44 \n",
      "111222333444\n",
      "1  1  1  1  1  \n",
      "12 12 12 12 12 \n",
      "123123123123123\n"
     ]
    }
   ],
   "source": [
    "for i in range(1,5+1):\n",
    "    for j in range(1,3+1):\n",
    "        for k in range(i):\n",
    "            if i==1 :\n",
    "                print(j*'*',end='')\n",
    "            if i==2 :\n",
    "                print(j*str(j)+(3-j)*' ',end='')\n",
    "            if i==3 :\n",
    "                print(j*chr(64+j)+(3-j)*' ',end='')\n",
    "            if i==4 :\n",
    "                print(j*str(k+1)+(3-j)*' ',end='')\n",
    "            if i==5 :\n",
    "                print('123'[0:j]+(3-j)*' ',end='')\n",
    "        print()"
   ]
  },
  {
   "cell_type": "code",
   "execution_count": 2,
   "id": "5eb296ea",
   "metadata": {},
   "outputs": [
    {
     "name": "stdout",
     "output_type": "stream",
     "text": [
      "3+8+13+18+23+28+33 = 126\n",
      "3+8+13+18+23+28+33 = 126\n",
      "2-4+8-16+32-64+128-256+512-1024 = -682\n",
      "2-4+8-16+32-64+128-256+512-1024 = -682\n"
     ]
    }
   ],
   "source": [
    "# 作業\n",
    "s1 = 0\n",
    "for i in range(7):\n",
    "    s1 += 3+5*i\n",
    "print('3+8+13+18+23+28+33 =', s1)\n",
    "\n",
    "def serFunc1(x):\n",
    "    if x == 1:\n",
    "        return 3\n",
    "    else:\n",
    "        return serFunc1(x-1)+3+5*(x-1)#我知道目前的數是多少但不知道之前的是多少數值用遞迴算\n",
    "\n",
    "print('3+8+13+18+23+28+33 =', serFunc1(7))\n",
    "\n",
    "s2 = 0#首相是2公比是-2\n",
    "for k in range(10):\n",
    "    s2 += 2*(-2)**k\n",
    "print('2-4+8-16+32-64+128-256+512-1024 =', s2)\n",
    "\n",
    "def serFunc2(y):\n",
    "    if y==1:\n",
    "        return 2\n",
    "    else:\n",
    "        return serFunc2(y-1)-(-2)**y\n",
    "\n",
    "print('2-4+8-16+32-64+128-256+512-1024 =', serFunc2(10))"
   ]
  },
  {
   "cell_type": "code",
   "execution_count": 3,
   "id": "5ed4551f",
   "metadata": {},
   "outputs": [
    {
     "name": "stdout",
     "output_type": "stream",
     "text": [
      "5, 15, 25, 35, 45, \n",
      "5, 15, 25, 35, 45, \n",
      "[5, 15, 100, 25, 35, 45]\n",
      "[5, 15, 100, 25, 35, 45, 105]\n",
      "[5, 15, 20, 25, 35, 45, 105]\n",
      "[5, 15, 25, 35, 45, 105]\n",
      "105\n",
      "[5, 15, 25, 35, 45]\n",
      "25\n",
      "[5, 15, 35, 45]\n"
     ]
    }
   ],
   "source": [
    "x = [5,15,25,35,45]\n",
    "for data in x:\n",
    "    print(data,end = \", \")\n",
    "print()\n",
    "\n",
    "for i in range(len(x)):    \n",
    "    print(x[i],end=\", \")\n",
    "print()    \n",
    "x.insert(2,100)\n",
    "print(x)\n",
    "x.append(105)\n",
    "print(x)\n",
    "x[2]= 20\n",
    "print(x)\n",
    "x.remove(20)\n",
    "print(x)\n",
    "n = x.pop()#****\n",
    "print(n)\n",
    "print(x)\n",
    "n = x.pop(2)\n",
    "print(n)\n",
    "print(x)\n"
   ]
  },
  {
   "cell_type": "code",
   "execution_count": 4,
   "id": "665af0a0",
   "metadata": {},
   "outputs": [
    {
     "name": "stdout",
     "output_type": "stream",
     "text": [
      "第1學生的成績87\n",
      "第2學生的成績66\n",
      "第3學生的成績90\n",
      "第4學生的成績65\n",
      "第5學生的成績70\n",
      "sum: 378\n",
      "avg:75.60\n",
      "score_max: 90\n",
      "score_min: 65\n"
     ]
    }
   ],
   "source": [
    "scores=[87,66,90,65,70]\n",
    "score_sum = 0\n",
    "counts =  len(scores)\n",
    "score_max = 0\n",
    "score_min = 100\n",
    "for i in range(counts):\n",
    " print(f\"第{i+1}學生的成績{scores[i]}\")\n",
    " myScore = scores[i]\n",
    " score_sum += myScore\n",
    " if myScore > score_max:\n",
    "    score_max = myScore    \n",
    " if myScore < score_min:\n",
    "     score_min = myScore\n",
    "\n",
    "print(\"sum:\",score_sum)\n",
    "print(f\"avg:{score_sum/counts:.2f}\")\n",
    "print(\"score_max:\",score_max)\n",
    "print(\"score_min:\",score_min)     \n",
    "     \n",
    "    "
   ]
  },
  {
   "cell_type": "code",
   "execution_count": 6,
   "id": "3e546188",
   "metadata": {},
   "outputs": [
    {
     "name": "stdout",
     "output_type": "stream",
     "text": [
      "[1, 2, 3, 4, 5, 6, 7, 8, 9]\n",
      "{1, 3, 5, 7, 9}\n",
      "{1: 1, 2: 4, 3: 9, 4: 16, 5: 25, 6: 36, 7: 49, 8: 64, 9: 81}\n",
      "[12, 14, 16, 18]\n",
      "[0, 10, 20, 30, 40, 50, 60, 70, 80, 90, 100]\n",
      "[32.0, 50.0, 68.0, 86.0, 104.0, 122.0, 140.0, 158.0, 176.0, 194.0, 212.0]\n"
     ]
    }
   ],
   "source": [
    "sq1 = [x for x in range(1,10) ]\n",
    "print(sq1)\n",
    "sq2 = {x for x in range(1,10) if x %2 != 0}\n",
    "print(sq2)\n",
    "sq3 = {x:x*x for x in range(1,10)}\n",
    "print(sq3)\n",
    "sq4 = [x + 10 for x in range(1,10) if x % 2 == 0]\n",
    "print(sq4)\n",
    "ces = [v for v in range(0,101,10)]\n",
    "print(ces)\n",
    "fah = [9/5 * x + 32 for x in ces]\n",
    "print(fah)\n",
    "\n",
    "\n"
   ]
  },
  {
   "cell_type": "code",
   "execution_count": null,
   "id": "4f6c58e4",
   "metadata": {},
   "outputs": [],
   "source": [
    "num = int(input(\"輸入數量\"))\n",
    "arr = [0] * num\n",
    "for i in range(num):\n",
    "    arr[i] = int(input(f'{i+1}.輸入陣列內容:'))\n",
    "    \n",
    "for k in range(num-1):\n",
    "    if arr[k] > arr[k + 1]:\n",
    "        print(\"不是遞增\")\n",
    "        break\n",
    "else:\n",
    "    print(\"是遞增\")\n"
   ]
  },
  {
   "cell_type": "code",
   "execution_count": null,
   "id": "12406766",
   "metadata": {},
   "outputs": [],
   "source": [
    "num = int(input(\"輸入數量\"))\n",
    "arr = [0] * num\n",
    "for i in range(num):\n",
    "    arr[i] = int(input(f'{i+1}.輸入陣列內容:'))\n",
    "for k in range(num-1):\n",
    "    if arr[k] * arr[k+1]>=0 :\n",
    "        print(\"不是正負交錯\")\n",
    "        break\n",
    "else:\n",
    "    print(\"是正負交錯\")\n",
    "print(arr)    \n"
   ]
  },
  {
   "cell_type": "code",
   "execution_count": 7,
   "id": "eef690c0",
   "metadata": {},
   "outputs": [
    {
     "name": "stdout",
     "output_type": "stream",
     "text": [
      "輸入數量3\n",
      "1.輸入陣列內容:1\n",
      "2.輸入陣列內容:2\n",
      "3.輸入陣列內容:3\n",
      "不是正負交錯\n",
      "[1, 2, 3]\n"
     ]
    }
   ],
   "source": [
    "num = int(input(\"輸入數量\"))\n",
    "arr = [0] * num\n",
    "for i in range(num):\n",
    "    arr[i] = int(input(f'{i+1}.輸入陣列內容:'))\n",
    "for k in range(num-1):\n",
    "    if arr[k] * arr[k+1]>=0 :\n",
    "        print(\"不是正負交錯\")\n",
    "        break\n",
    "else:\n",
    "    print(\"是正負交錯\")\n",
    "print(arr)    \n"
   ]
  },
  {
   "cell_type": "code",
   "execution_count": 9,
   "id": "aae5b529",
   "metadata": {},
   "outputs": [
    {
     "name": "stdout",
     "output_type": "stream",
     "text": [
      "6\n",
      "2\n",
      "3\n",
      "5 6 7 \n",
      "11 12 13 \n",
      "\n",
      "5 6 7 \n",
      "11 12 13 \n"
     ]
    }
   ],
   "source": [
    "score1 =[[5,6,7],\n",
    "         [11,12,13]]\n",
    "print(score1[0][1])\n",
    "\n",
    "\n",
    "print(len(score1))#R長度\n",
    "\n",
    "print(len(score1[0]))#C長度\n",
    "\n",
    "for i in range(len(score1)):\n",
    "  for k in range(len(score1[i])):\n",
    "    print(score1[i][k],end =\" \")\n",
    "  print()\n",
    "  \n",
    "print()\n",
    "\n",
    "for a1 in score1:\n",
    "    for a2 in a1:\n",
    "        print(a2,end=\" \")\n",
    "    print()        \n",
    "        \n"
   ]
  },
  {
   "cell_type": "code",
   "execution_count": 11,
   "id": "a8a01521",
   "metadata": {},
   "outputs": [
    {
     "name": "stdout",
     "output_type": "stream",
     "text": [
      "[[0, 0, 0, 0, 0], [0, 0, 0, 0, 0], [0, 0, 0, 0, 0], [0, 0, 0, 0, 0], [0, 0, 0, 0, 0], [0, 0, 0, 0, 0], [0, 0, 0, 0, 0], [0, 0, 0, 0, 0], [0, 0, 0, 0, 0], [0, 0, 0, 0, 0]]\n",
      "(0,0) (0,1) (0,2) (0,3) (0,4) \n",
      "(1,0) (1,1) (1,2) (1,3) (1,4) \n",
      "(2,0) (2,1) (2,2) (2,3) (2,4) \n",
      "(3,0) (3,1) (3,2) (3,3) (3,4) \n",
      "(4,0) (4,1) (4,2) (4,3) (4,4) \n",
      "(5,0) (5,1) (5,2) (5,3) (5,4) \n",
      "(6,0) (6,1) (6,2) (6,3) (6,4) \n",
      "(7,0) (7,1) (7,2) (7,3) (7,4) \n",
      "(8,0) (8,1) (8,2) (8,3) (8,4) \n",
      "(9,0) (9,1) (9,2) (9,3) (9,4) \n"
     ]
    }
   ],
   "source": [
    "p = [[0]*5  for x in range(10)]#10 x 5的陣列\n",
    "print(p)\n",
    "\n",
    "for i in range(10):\n",
    "    for k in range(5):\n",
    "        p[i][k] = f\"({i},{k})\"\n",
    "\n",
    "for a1 in p:\n",
    "    for a2 in a1:\n",
    "        print(a2,end=\" \")\n",
    "    print()    \n",
    "\n"
   ]
  },
  {
   "attachments": {
    "image.png": {
     "image/png": "[encoded data removed]"
    }
   },
   "cell_type": "markdown",
   "id": "d8f13401",
   "metadata": {},
   "source": [
    "![image.png](attachment:image.png)"
   ]
  },
  {
   "cell_type": "code",
   "execution_count": 13,
   "id": "2eab004d",
   "metadata": {},
   "outputs": [
    {
     "name": "stdout",
     "output_type": "stream",
     "text": [
      "f(3)=10\n",
      "f(3)=10\n"
     ]
    }
   ],
   "source": [
    "p1 = [1,-3,2]\n",
    "x = 3\n",
    "fx = 0\n",
    "for i in range(len(p1)):\n",
    "    fx += p1[i] * x ** i\n",
    "print(f\"f({x})={fx}\")\n",
    "\n",
    "p2 = [3,2,2,-3,1,1,0]\n",
    "y = 3\n",
    "fy = 0\n",
    "for k in range(p2[0]):\n",
    "    fy += p2[2*k + 1] * y ** p2[2*(k + 1)]\n",
    "print(f\"f({y})={fy}\")  \n"
   ]
  },
  {
   "cell_type": "code",
   "execution_count": 14,
   "id": "bf7a18c9",
   "metadata": {},
   "outputs": [
    {
     "name": "stdout",
     "output_type": "stream",
     "text": [
      "2 5 10 \n",
      "5 8 13 \n"
     ]
    }
   ],
   "source": [
    "def printMatrix(matrix):\n",
    "    for i in range(len(matrix)):\n",
    "        for k in range(len(matrix[i])):\n",
    "          print(matrix[i][k],end = ' ')\n",
    "        print()\n",
    "matrixA = []\n",
    "\n",
    "for i in range(2):\n",
    "    row=[]\n",
    "    for k in range(3):\n",
    "        row.append((i+1) ** 2 + (k + 1) ** 2)\n",
    "    matrixA.append(row)    \n",
    "printMatrix(matrixA)\n"
   ]
  },
  {
   "cell_type": "code",
   "execution_count": 15,
   "id": "09249a10",
   "metadata": {},
   "outputs": [
    {
     "name": "stdout",
     "output_type": "stream",
     "text": [
      "3 4 \n",
      "5 6 \n",
      "7 8 \n"
     ]
    }
   ],
   "source": [
    "def printMatrix(matrix):\n",
    "    for i in range(len(matrix)):\n",
    "        for j in range(len(matrix[i])):\n",
    "            print(matrix[i][j], end=' ')\n",
    "        print()\n",
    "\n",
    "matrixA = [[None] * 2 for row in range(3)]\n",
    "for i in range(len(matrixA)):\n",
    "    for j in range(len(matrixA[i])):\n",
    "        matrixA[i][j] = 2*(i+1)+(j+1)\n",
    "\n",
    "printMatrix(matrixA)\n"
   ]
  },
  {
   "cell_type": "code",
   "execution_count": 16,
   "id": "2c4dc600",
   "metadata": {},
   "outputs": [
    {
     "name": "stdout",
     "output_type": "stream",
     "text": [
      "MatrixA:\n",
      "1 3 5 \n",
      "7 9 11 \n",
      "13 15 17 \n",
      "MatrixB:\n",
      "9 8 7 \n",
      "6 5 4 \n",
      "3 2 1 \n",
      "MatrixA + MatrixB:\n",
      "10 11 12 \n",
      "13 14 15 \n",
      "16 17 18 \n",
      "MatrixA - MatrixB:\n",
      "-8 -5 -2 \n",
      "1 4 7 \n",
      "10 13 16 \n"
     ]
    }
   ],
   "source": [
    "def printMatrix(matrix):\n",
    "    for i in range(len(matrix)):\n",
    "        for j in range(len(matrix[i])):\n",
    "            print(matrix[i][j], end=' ')\n",
    "        print()\n",
    "\n",
    "def matrixAdd(A, B):\n",
    "    n = len(A)\n",
    "    m = len(A[0])\n",
    "    C = [[None]*m for row in range(n)]# n x m\n",
    "    for i in range(n):\n",
    "        for j in range(m):\n",
    "            C[i][j] = A[i][j]+B[i][j]\n",
    "    return C\n",
    "\n",
    "def matrixSubtract(A, B):\n",
    "    n = len(A)\n",
    "    m = len(A[0])\n",
    "    C = [[None]*m for row in range(n)]# n x m\n",
    "    for i in range(n):\n",
    "        for j in range(m):\n",
    "            C[i][j] = A[i][j]-B[i][j]\n",
    "    return C\n",
    "\n",
    "matrixA = [[1,3,5], [7,9,11], [13,15,17]]\n",
    "matrixB = [[9,8,7], [6,5,4], [3,2,1]]\n",
    "matrixC = matrixAdd(matrixA,matrixB)\n",
    "matrixD = matrixSubtract(matrixA,matrixB)\n",
    "\n",
    "print(\"MatrixA:\")\n",
    "printMatrix(matrixA)\n",
    "print(\"MatrixB:\")\n",
    "printMatrix(matrixB)\n",
    "print(\"MatrixA + MatrixB:\")\n",
    "printMatrix(matrixC)\n",
    "print(\"MatrixA - MatrixB:\")\n",
    "printMatrix(matrixD)"
   ]
  },
  {
   "cell_type": "code",
   "execution_count": 17,
   "id": "2d485a0e",
   "metadata": {},
   "outputs": [
    {
     "name": "stdout",
     "output_type": "stream",
     "text": [
      "MatrixA:\n",
      "6 3 5 \n",
      "8 9 7 \n",
      "MatrixB:\n",
      "5 10 \n",
      "14 7 \n",
      "6 8 \n",
      "MatrixA * MatrixB:\n",
      "102 121 \n",
      "208 199 \n"
     ]
    }
   ],
   "source": [
    "def printMatrix(matrix):\n",
    "    for i in range(len(matrix)):\n",
    "        for j in range(len(matrix[i])):\n",
    "            print(matrix[i][j], end=' ')\n",
    "        print()\n",
    "\n",
    "def matrixMutiply(A, B):\n",
    "    m = len(A)#a row  2\n",
    "    na = len(A[0])#a colun 3\n",
    "    nb = len(B)#b row  3\n",
    "    p = len(B[0])#b colum 2\n",
    "    if(na!=nb):\n",
    "        print('AB矩陣無法相乘')\n",
    "        return\n",
    "    C = [[None]*p for row in range(m)]\n",
    "    for i in range(m):\n",
    "        for j in range(p):\n",
    "            tmp=0\n",
    "            for k in range(na):\n",
    "                tmp = tmp + A[i][k]*B[k][j]\n",
    "            C[i][j] = tmp\n",
    "    return C\n",
    "\n",
    "\n",
    "matrixA = [[6,3,5], [8,9,7]]\n",
    "matrixB = [[5,10], [14,7], [6,8]]\n",
    "matrixC = matrixMutiply(matrixA,matrixB)\n",
    "\n",
    "print(\"MatrixA:\")\n",
    "printMatrix(matrixA)\n",
    "print(\"MatrixB:\")\n",
    "printMatrix(matrixB)\n",
    "print(\"MatrixA * MatrixB:\")\n",
    "printMatrix(matrixC)\n"
   ]
  },
  {
   "cell_type": "code",
   "execution_count": 18,
   "id": "6a55fbe1",
   "metadata": {},
   "outputs": [
    {
     "name": "stdout",
     "output_type": "stream",
     "text": [
      "MatrixA:\n",
      "1 2 3 4 \n",
      "5 6 7 8 \n",
      "9 10 11 12 \n",
      "MatrixB:\n",
      "1 5 9 \n",
      "2 6 10 \n",
      "3 7 11 \n",
      "4 8 12 \n"
     ]
    }
   ],
   "source": [
    "def printMatrix(matrix):\n",
    "    for i in range(len(matrix)):\n",
    "        for j in range(len(matrix[i])):\n",
    "            print(matrix[i][j], end=' ')\n",
    "        print()\n",
    "\n",
    "def matrixTranspose(A):\n",
    "    m = len(A)#3\n",
    "    n = len(A[0])#4\n",
    "    #B = [[None]*m for row in range(n)]\n",
    "    B = []\n",
    "    for i in range(n):\n",
    "        tp=[]\n",
    "        for j in range(m):\n",
    "            #B[i][j] = A[j][i]\n",
    "            tp.append(A[j][i])\n",
    "        B.append(tp)\n",
    "    return B\n",
    "\n",
    "\n",
    "matrixA = [[1,2,3,4],[5,6,7,8],[9,10,11,12]]\n",
    "matrixB = matrixTranspose(matrixA)\n",
    "\n",
    "print(\"MatrixA:\")\n",
    "printMatrix(matrixA)\n",
    "print(\"MatrixB:\")\n",
    "printMatrix(matrixB)"
   ]
  },
  {
   "cell_type": "code",
   "execution_count": null,
   "id": "fbce15dc",
   "metadata": {},
   "outputs": [],
   "source": []
  }
 ],
 "metadata": {
  "kernelspec": {
   "display_name": "Python 3 (ipykernel)",
   "language": "python",
   "name": "python3"
  },
  "language_info": {
   "codemirror_mode": {
    "name": "ipython",
    "version": 3
   },
   "file_extension": ".py",
   "mimetype": "text/x-python",
   "name": "python",
   "nbconvert_exporter": "python",
   "pygments_lexer": "ipython3",
   "version": "3.8.15"
  }
 },
 "nbformat": 4,
 "nbformat_minor": 5
}
